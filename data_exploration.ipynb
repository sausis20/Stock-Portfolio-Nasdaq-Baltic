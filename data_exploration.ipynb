{
  "nbformat": 4,
  "nbformat_minor": 0,
  "metadata": {
    "colab": {
      "provenance": [],
      "authorship_tag": "ABX9TyMAHSXsaNzjDxVVpwHZYNLJ",
      "include_colab_link": true
    },
    "kernelspec": {
      "name": "python3",
      "display_name": "Python 3"
    },
    "language_info": {
      "name": "python"
    }
  },
  "cells": [
    {
      "cell_type": "markdown",
      "metadata": {
        "id": "view-in-github",
        "colab_type": "text"
      },
      "source": [
        "<a href=\"https://colab.research.google.com/github/sausis20/Stock-Portfolio-Nasdaq-Baltic/blob/main/data_exploration.ipynb\" target=\"_parent\"><img src=\"https://colab.research.google.com/assets/colab-badge.svg\" alt=\"Open In Colab\"/></a>"
      ]
    },
    {
      "cell_type": "markdown",
      "source": [
        "# Import Data and Libraries\n",
        "\n"
      ],
      "metadata": {
        "id": "dM7y9iiP__bY"
      }
    },
    {
      "cell_type": "code",
      "source": [
        "!pip install yfinance"
      ],
      "metadata": {
        "id": "GtsTrT4tvAUc"
      },
      "execution_count": null,
      "outputs": []
    },
    {
      "cell_type": "code",
      "source": [
        "import numpy as np\n",
        "import pandas as pd\n",
        "import matplotlib.pyplot as plt\n",
        "import plotly.express as px\n",
        "import yfinance as yf\n",
        "import seaborn as sns\n",
        "sns.set(style=\"darkgrid\")\n",
        "\n",
        "from google.colab import drive\n",
        "drive.mount('/content/gdrive')"
      ],
      "metadata": {
        "colab": {
          "base_uri": "https://localhost:8080/"
        },
        "id": "aFjV6_mO_5IY",
        "outputId": "12c46146-db63-4c07-8670-b795ca95c343"
      },
      "execution_count": null,
      "outputs": [
        {
          "output_type": "stream",
          "name": "stdout",
          "text": [
            "Mounted at /content/gdrive\n"
          ]
        }
      ]
    },
    {
      "cell_type": "code",
      "source": [
        "cd '/content/gdrive/My Drive/Colab Notebooks/Nasdaq OMX Baltic/data/'"
      ],
      "metadata": {
        "colab": {
          "base_uri": "https://localhost:8080/"
        },
        "id": "nM-4zudP_9Qf",
        "outputId": "9bf81666-81e4-4220-ca59-e9a730e06e67"
      },
      "execution_count": null,
      "outputs": [
        {
          "output_type": "stream",
          "name": "stdout",
          "text": [
            "/content/gdrive/My Drive/Colab Notebooks/Nasdaq OMX Baltic/data\n"
          ]
        }
      ]
    },
    {
      "cell_type": "markdown",
      "source": [
        "# Data Exploration\n",
        "\n",
        "The data that we collected in the previous step contains a lot of fundamental and other information for each security in the Baltic Main List. \n",
        "To get familiar with the data, first let’s visualize the size of the companies in the list, and then take a look at the complete list of features and fundamental data."
      ],
      "metadata": {
        "id": "bW7MZKXBAUcb"
      }
    },
    {
      "cell_type": "markdown",
      "source": [
        "## Data visualization for company size"
      ],
      "metadata": {
        "id": "EyrB2tMv1JN8"
      }
    },
    {
      "cell_type": "code",
      "source": [
        "df_info = pd.read_csv('company_info.csv', index_col=0)\n",
        "df_tickers = pd.read_csv('tickers.csv', index_col=0)\n",
        "df_info = df_info.join(df_tickers.set_index('Ticker'))"
      ],
      "metadata": {
        "id": "nLlnKTGmPJHv"
      },
      "execution_count": null,
      "outputs": []
    },
    {
      "cell_type": "code",
      "source": [
        "color_map={'Lithuania': 'rgb(4, 106, 56)', 'Latvia': 'rgb(164,52,58)', 'Estonia': 'rgb(0,114,206)'}\n",
        "fig = px.histogram(df_info, x='Company', y='marketCap', \n",
        "             title=\"Market capitalization by company\", \n",
        "             color='country', \n",
        "             color_discrete_map=color_map\n",
        "             ).update_xaxes(categoryorder='total descending')\n",
        "fig.update_layout(height=600, width=1600)\n",
        "fig.show()"
      ],
      "metadata": {
        "colab": {
          "base_uri": "https://localhost:8080/",
          "height": 617
        },
        "id": "l2yZFHs4FfVv",
        "outputId": "54a1fc22-9cd1-4603-9b28-4635e7dcfa61"
      },
      "execution_count": null,
      "outputs": [
        {
          "output_type": "display_data",
          "data": {
            "text/html": [
              "<html>\n",
              "<head><meta charset=\"utf-8\" /></head>\n",
              "<body>\n",
              "    <div>            <script src=\"https://cdnjs.cloudflare.com/ajax/libs/mathjax/2.7.5/MathJax.js?config=TeX-AMS-MML_SVG\"></script><script type=\"text/javascript\">if (window.MathJax) {MathJax.Hub.Config({SVG: {font: \"STIX-Web\"}});}</script>                <script type=\"text/javascript\">window.PlotlyConfig = {MathJaxConfig: 'local'};</script>\n",
              "        <script src=\"https://cdn.plot.ly/plotly-2.8.3.min.js\"></script>                <div id=\"723816b9-6cb7-45db-9d42-77a09eddd661\" class=\"plotly-graph-div\" style=\"height:600px; width:1600px;\"></div>            <script type=\"text/javascript\">                                    window.PLOTLYENV=window.PLOTLYENV || {};                                    if (document.getElementById(\"723816b9-6cb7-45db-9d42-77a09eddd661\")) {                    Plotly.newPlot(                        \"723816b9-6cb7-45db-9d42-77a09eddd661\",                        [{\"alignmentgroup\":\"True\",\"bingroup\":\"x\",\"histfunc\":\"sum\",\"hovertemplate\":\"country=Lithuania<br>Company=%{x}<br>sum of marketCap=%{y}<extra></extra>\",\"legendgroup\":\"Lithuania\",\"marker\":{\"color\":\"rgb(4, 106, 56)\",\"pattern\":{\"shape\":\"\"}},\"name\":\"Lithuania\",\"offsetgroup\":\"Lithuania\",\"orientation\":\"v\",\"showlegend\":true,\"x\":[\"Apranga\",\"AUGA group\",\"Grigeo\",\"Ignitis grup\\u0117\",\"Klaip\\u0117dos nafta\",\"Novaturas\",\"Panev\\u0117\\u017eio statybos trestas\",\"Pieno \\u017evaig\\u017ed\\u0117s\",\"Roki\\u0161kio s\\u016bris\",\"\\u0160iauli\\u0173 bankas\",\"Telia Lietuva\",\"Vilky\\u0161ki\\u0173 pienin\\u0117\"],\"xaxis\":\"x\",\"y\":[107819400.0,91193816.0,96973200.0,1415849216.0,87871704.0,23421000.0,8763600.0,51904560.0,105020096.0,394676992.0,1133182336.0,57445828.0],\"yaxis\":\"y\",\"type\":\"histogram\"},{\"alignmentgroup\":\"True\",\"bingroup\":\"x\",\"histfunc\":\"sum\",\"hovertemplate\":\"country=Estonia<br>Company=%{x}<br>sum of marketCap=%{y}<extra></extra>\",\"legendgroup\":\"Estonia\",\"marker\":{\"color\":\"rgb(0,114,206)\",\"pattern\":{\"shape\":\"\"}},\"name\":\"Estonia\",\"offsetgroup\":\"Estonia\",\"orientation\":\"v\",\"showlegend\":true,\"x\":[\"Arco Vara\",\"Baltika\",\"Coop Pank\",\"Ekspress Grupp\",\"Enefit Green\",\"Harju Elekter\",\"Hepsor\",\"LHV Group\",\"Merko Ehitus\",\"Nordecon\",\"Pro Kapital Grupp\",\"Silvano Fashion GroupLP\",\"Tallink Grupp\",\"Tallinna Kaubamaja Grupp\",\"Tallinna Sadam\",\"Tallinna Vesi\"],\"xaxis\":\"x\",\"y\":[18366692.0,8436402.0,208072480.0,45272936.0,1125815808.0,101624904.0,null,92452504.0,250278000.0,22421634.0,35600064.0,38887200.0,338960288.0,388556576.0,379246016.0,254000000.0],\"yaxis\":\"y\",\"type\":\"histogram\"},{\"alignmentgroup\":\"True\",\"bingroup\":\"x\",\"histfunc\":\"sum\",\"hovertemplate\":\"country=Latvia<br>Company=%{x}<br>sum of marketCap=%{y}<extra></extra>\",\"legendgroup\":\"Latvia\",\"marker\":{\"color\":\"rgb(164,52,58)\",\"pattern\":{\"shape\":\"\"}},\"name\":\"Latvia\",\"offsetgroup\":\"Latvia\",\"orientation\":\"v\",\"showlegend\":true,\"x\":[\"DelfinGroup\",\"HansaMatrix\"],\"xaxis\":\"x\",\"y\":[58400000.0,12220258.0],\"yaxis\":\"y\",\"type\":\"histogram\"}],                        {\"template\":{\"data\":{\"bar\":[{\"error_x\":{\"color\":\"#2a3f5f\"},\"error_y\":{\"color\":\"#2a3f5f\"},\"marker\":{\"line\":{\"color\":\"#E5ECF6\",\"width\":0.5},\"pattern\":{\"fillmode\":\"overlay\",\"size\":10,\"solidity\":0.2}},\"type\":\"bar\"}],\"barpolar\":[{\"marker\":{\"line\":{\"color\":\"#E5ECF6\",\"width\":0.5},\"pattern\":{\"fillmode\":\"overlay\",\"size\":10,\"solidity\":0.2}},\"type\":\"barpolar\"}],\"carpet\":[{\"aaxis\":{\"endlinecolor\":\"#2a3f5f\",\"gridcolor\":\"white\",\"linecolor\":\"white\",\"minorgridcolor\":\"white\",\"startlinecolor\":\"#2a3f5f\"},\"baxis\":{\"endlinecolor\":\"#2a3f5f\",\"gridcolor\":\"white\",\"linecolor\":\"white\",\"minorgridcolor\":\"white\",\"startlinecolor\":\"#2a3f5f\"},\"type\":\"carpet\"}],\"choropleth\":[{\"colorbar\":{\"outlinewidth\":0,\"ticks\":\"\"},\"type\":\"choropleth\"}],\"contour\":[{\"colorbar\":{\"outlinewidth\":0,\"ticks\":\"\"},\"colorscale\":[[0.0,\"#0d0887\"],[0.1111111111111111,\"#46039f\"],[0.2222222222222222,\"#7201a8\"],[0.3333333333333333,\"#9c179e\"],[0.4444444444444444,\"#bd3786\"],[0.5555555555555556,\"#d8576b\"],[0.6666666666666666,\"#ed7953\"],[0.7777777777777778,\"#fb9f3a\"],[0.8888888888888888,\"#fdca26\"],[1.0,\"#f0f921\"]],\"type\":\"contour\"}],\"contourcarpet\":[{\"colorbar\":{\"outlinewidth\":0,\"ticks\":\"\"},\"type\":\"contourcarpet\"}],\"heatmap\":[{\"colorbar\":{\"outlinewidth\":0,\"ticks\":\"\"},\"colorscale\":[[0.0,\"#0d0887\"],[0.1111111111111111,\"#46039f\"],[0.2222222222222222,\"#7201a8\"],[0.3333333333333333,\"#9c179e\"],[0.4444444444444444,\"#bd3786\"],[0.5555555555555556,\"#d8576b\"],[0.6666666666666666,\"#ed7953\"],[0.7777777777777778,\"#fb9f3a\"],[0.8888888888888888,\"#fdca26\"],[1.0,\"#f0f921\"]],\"type\":\"heatmap\"}],\"heatmapgl\":[{\"colorbar\":{\"outlinewidth\":0,\"ticks\":\"\"},\"colorscale\":[[0.0,\"#0d0887\"],[0.1111111111111111,\"#46039f\"],[0.2222222222222222,\"#7201a8\"],[0.3333333333333333,\"#9c179e\"],[0.4444444444444444,\"#bd3786\"],[0.5555555555555556,\"#d8576b\"],[0.6666666666666666,\"#ed7953\"],[0.7777777777777778,\"#fb9f3a\"],[0.8888888888888888,\"#fdca26\"],[1.0,\"#f0f921\"]],\"type\":\"heatmapgl\"}],\"histogram\":[{\"marker\":{\"pattern\":{\"fillmode\":\"overlay\",\"size\":10,\"solidity\":0.2}},\"type\":\"histogram\"}],\"histogram2d\":[{\"colorbar\":{\"outlinewidth\":0,\"ticks\":\"\"},\"colorscale\":[[0.0,\"#0d0887\"],[0.1111111111111111,\"#46039f\"],[0.2222222222222222,\"#7201a8\"],[0.3333333333333333,\"#9c179e\"],[0.4444444444444444,\"#bd3786\"],[0.5555555555555556,\"#d8576b\"],[0.6666666666666666,\"#ed7953\"],[0.7777777777777778,\"#fb9f3a\"],[0.8888888888888888,\"#fdca26\"],[1.0,\"#f0f921\"]],\"type\":\"histogram2d\"}],\"histogram2dcontour\":[{\"colorbar\":{\"outlinewidth\":0,\"ticks\":\"\"},\"colorscale\":[[0.0,\"#0d0887\"],[0.1111111111111111,\"#46039f\"],[0.2222222222222222,\"#7201a8\"],[0.3333333333333333,\"#9c179e\"],[0.4444444444444444,\"#bd3786\"],[0.5555555555555556,\"#d8576b\"],[0.6666666666666666,\"#ed7953\"],[0.7777777777777778,\"#fb9f3a\"],[0.8888888888888888,\"#fdca26\"],[1.0,\"#f0f921\"]],\"type\":\"histogram2dcontour\"}],\"mesh3d\":[{\"colorbar\":{\"outlinewidth\":0,\"ticks\":\"\"},\"type\":\"mesh3d\"}],\"parcoords\":[{\"line\":{\"colorbar\":{\"outlinewidth\":0,\"ticks\":\"\"}},\"type\":\"parcoords\"}],\"pie\":[{\"automargin\":true,\"type\":\"pie\"}],\"scatter\":[{\"marker\":{\"colorbar\":{\"outlinewidth\":0,\"ticks\":\"\"}},\"type\":\"scatter\"}],\"scatter3d\":[{\"line\":{\"colorbar\":{\"outlinewidth\":0,\"ticks\":\"\"}},\"marker\":{\"colorbar\":{\"outlinewidth\":0,\"ticks\":\"\"}},\"type\":\"scatter3d\"}],\"scattercarpet\":[{\"marker\":{\"colorbar\":{\"outlinewidth\":0,\"ticks\":\"\"}},\"type\":\"scattercarpet\"}],\"scattergeo\":[{\"marker\":{\"colorbar\":{\"outlinewidth\":0,\"ticks\":\"\"}},\"type\":\"scattergeo\"}],\"scattergl\":[{\"marker\":{\"colorbar\":{\"outlinewidth\":0,\"ticks\":\"\"}},\"type\":\"scattergl\"}],\"scattermapbox\":[{\"marker\":{\"colorbar\":{\"outlinewidth\":0,\"ticks\":\"\"}},\"type\":\"scattermapbox\"}],\"scatterpolar\":[{\"marker\":{\"colorbar\":{\"outlinewidth\":0,\"ticks\":\"\"}},\"type\":\"scatterpolar\"}],\"scatterpolargl\":[{\"marker\":{\"colorbar\":{\"outlinewidth\":0,\"ticks\":\"\"}},\"type\":\"scatterpolargl\"}],\"scatterternary\":[{\"marker\":{\"colorbar\":{\"outlinewidth\":0,\"ticks\":\"\"}},\"type\":\"scatterternary\"}],\"surface\":[{\"colorbar\":{\"outlinewidth\":0,\"ticks\":\"\"},\"colorscale\":[[0.0,\"#0d0887\"],[0.1111111111111111,\"#46039f\"],[0.2222222222222222,\"#7201a8\"],[0.3333333333333333,\"#9c179e\"],[0.4444444444444444,\"#bd3786\"],[0.5555555555555556,\"#d8576b\"],[0.6666666666666666,\"#ed7953\"],[0.7777777777777778,\"#fb9f3a\"],[0.8888888888888888,\"#fdca26\"],[1.0,\"#f0f921\"]],\"type\":\"surface\"}],\"table\":[{\"cells\":{\"fill\":{\"color\":\"#EBF0F8\"},\"line\":{\"color\":\"white\"}},\"header\":{\"fill\":{\"color\":\"#C8D4E3\"},\"line\":{\"color\":\"white\"}},\"type\":\"table\"}]},\"layout\":{\"annotationdefaults\":{\"arrowcolor\":\"#2a3f5f\",\"arrowhead\":0,\"arrowwidth\":1},\"autotypenumbers\":\"strict\",\"coloraxis\":{\"colorbar\":{\"outlinewidth\":0,\"ticks\":\"\"}},\"colorscale\":{\"diverging\":[[0,\"#8e0152\"],[0.1,\"#c51b7d\"],[0.2,\"#de77ae\"],[0.3,\"#f1b6da\"],[0.4,\"#fde0ef\"],[0.5,\"#f7f7f7\"],[0.6,\"#e6f5d0\"],[0.7,\"#b8e186\"],[0.8,\"#7fbc41\"],[0.9,\"#4d9221\"],[1,\"#276419\"]],\"sequential\":[[0.0,\"#0d0887\"],[0.1111111111111111,\"#46039f\"],[0.2222222222222222,\"#7201a8\"],[0.3333333333333333,\"#9c179e\"],[0.4444444444444444,\"#bd3786\"],[0.5555555555555556,\"#d8576b\"],[0.6666666666666666,\"#ed7953\"],[0.7777777777777778,\"#fb9f3a\"],[0.8888888888888888,\"#fdca26\"],[1.0,\"#f0f921\"]],\"sequentialminus\":[[0.0,\"#0d0887\"],[0.1111111111111111,\"#46039f\"],[0.2222222222222222,\"#7201a8\"],[0.3333333333333333,\"#9c179e\"],[0.4444444444444444,\"#bd3786\"],[0.5555555555555556,\"#d8576b\"],[0.6666666666666666,\"#ed7953\"],[0.7777777777777778,\"#fb9f3a\"],[0.8888888888888888,\"#fdca26\"],[1.0,\"#f0f921\"]]},\"colorway\":[\"#636efa\",\"#EF553B\",\"#00cc96\",\"#ab63fa\",\"#FFA15A\",\"#19d3f3\",\"#FF6692\",\"#B6E880\",\"#FF97FF\",\"#FECB52\"],\"font\":{\"color\":\"#2a3f5f\"},\"geo\":{\"bgcolor\":\"white\",\"lakecolor\":\"white\",\"landcolor\":\"#E5ECF6\",\"showlakes\":true,\"showland\":true,\"subunitcolor\":\"white\"},\"hoverlabel\":{\"align\":\"left\"},\"hovermode\":\"closest\",\"mapbox\":{\"style\":\"light\"},\"paper_bgcolor\":\"white\",\"plot_bgcolor\":\"#E5ECF6\",\"polar\":{\"angularaxis\":{\"gridcolor\":\"white\",\"linecolor\":\"white\",\"ticks\":\"\"},\"bgcolor\":\"#E5ECF6\",\"radialaxis\":{\"gridcolor\":\"white\",\"linecolor\":\"white\",\"ticks\":\"\"}},\"scene\":{\"xaxis\":{\"backgroundcolor\":\"#E5ECF6\",\"gridcolor\":\"white\",\"gridwidth\":2,\"linecolor\":\"white\",\"showbackground\":true,\"ticks\":\"\",\"zerolinecolor\":\"white\"},\"yaxis\":{\"backgroundcolor\":\"#E5ECF6\",\"gridcolor\":\"white\",\"gridwidth\":2,\"linecolor\":\"white\",\"showbackground\":true,\"ticks\":\"\",\"zerolinecolor\":\"white\"},\"zaxis\":{\"backgroundcolor\":\"#E5ECF6\",\"gridcolor\":\"white\",\"gridwidth\":2,\"linecolor\":\"white\",\"showbackground\":true,\"ticks\":\"\",\"zerolinecolor\":\"white\"}},\"shapedefaults\":{\"line\":{\"color\":\"#2a3f5f\"}},\"ternary\":{\"aaxis\":{\"gridcolor\":\"white\",\"linecolor\":\"white\",\"ticks\":\"\"},\"baxis\":{\"gridcolor\":\"white\",\"linecolor\":\"white\",\"ticks\":\"\"},\"bgcolor\":\"#E5ECF6\",\"caxis\":{\"gridcolor\":\"white\",\"linecolor\":\"white\",\"ticks\":\"\"}},\"title\":{\"x\":0.05},\"xaxis\":{\"automargin\":true,\"gridcolor\":\"white\",\"linecolor\":\"white\",\"ticks\":\"\",\"title\":{\"standoff\":15},\"zerolinecolor\":\"white\",\"zerolinewidth\":2},\"yaxis\":{\"automargin\":true,\"gridcolor\":\"white\",\"linecolor\":\"white\",\"ticks\":\"\",\"title\":{\"standoff\":15},\"zerolinecolor\":\"white\",\"zerolinewidth\":2}}},\"xaxis\":{\"anchor\":\"y\",\"domain\":[0.0,1.0],\"title\":{\"text\":\"Company\"},\"categoryorder\":\"total descending\"},\"yaxis\":{\"anchor\":\"x\",\"domain\":[0.0,1.0],\"title\":{\"text\":\"sum of marketCap\"}},\"legend\":{\"title\":{\"text\":\"country\"},\"tracegroupgap\":0},\"title\":{\"text\":\"Market capitalization by company\"},\"barmode\":\"relative\",\"height\":600,\"width\":1600},                        {\"responsive\": true}                    ).then(function(){\n",
              "                            \n",
              "var gd = document.getElementById('723816b9-6cb7-45db-9d42-77a09eddd661');\n",
              "var x = new MutationObserver(function (mutations, observer) {{\n",
              "        var display = window.getComputedStyle(gd).display;\n",
              "        if (!display || display === 'none') {{\n",
              "            console.log([gd, 'removed!']);\n",
              "            Plotly.purge(gd);\n",
              "            observer.disconnect();\n",
              "        }}\n",
              "}});\n",
              "\n",
              "// Listen for the removal of the full notebook cells\n",
              "var notebookContainer = gd.closest('#notebook-container');\n",
              "if (notebookContainer) {{\n",
              "    x.observe(notebookContainer, {childList: true});\n",
              "}}\n",
              "\n",
              "// Listen for the clearing of the current output cell\n",
              "var outputEl = gd.closest('.output');\n",
              "if (outputEl) {{\n",
              "    x.observe(outputEl, {childList: true});\n",
              "}}\n",
              "\n",
              "                        })                };                            </script>        </div>\n",
              "</body>\n",
              "</html>"
            ]
          },
          "metadata": {}
        }
      ]
    },
    {
      "cell_type": "code",
      "source": [
        "fig = px.treemap(df_info, path=[px.Constant(\"\"), 'sector', 'industry', 'Company'], values='marketCap', title=\"Market capitalization by sector and industry\")\n",
        "fig.update_layout(height=600, width=1600, margin = dict(t=50, l=25, r=25, b=25))\n",
        "fig.show()"
      ],
      "metadata": {
        "colab": {
          "base_uri": "https://localhost:8080/",
          "height": 617
        },
        "id": "fzY2SJtOT4Br",
        "outputId": "2bc696e7-4358-40ba-b124-010504f3324a"
      },
      "execution_count": null,
      "outputs": [
        {
          "output_type": "display_data",
          "data": {
            "text/html": [
              "<html>\n",
              "<head><meta charset=\"utf-8\" /></head>\n",
              "<body>\n",
              "    <div>            <script src=\"https://cdnjs.cloudflare.com/ajax/libs/mathjax/2.7.5/MathJax.js?config=TeX-AMS-MML_SVG\"></script><script type=\"text/javascript\">if (window.MathJax) {MathJax.Hub.Config({SVG: {font: \"STIX-Web\"}});}</script>                <script type=\"text/javascript\">window.PlotlyConfig = {MathJaxConfig: 'local'};</script>\n",
              "        <script src=\"https://cdn.plot.ly/plotly-2.8.3.min.js\"></script>                <div id=\"0c514c76-cab0-4a78-9a8d-71bfe76897c0\" class=\"plotly-graph-div\" style=\"height:600px; width:1600px;\"></div>            <script type=\"text/javascript\">                                    window.PLOTLYENV=window.PLOTLYENV || {};                                    if (document.getElementById(\"0c514c76-cab0-4a78-9a8d-71bfe76897c0\")) {                    Plotly.newPlot(                        \"0c514c76-cab0-4a78-9a8d-71bfe76897c0\",                        [{\"branchvalues\":\"total\",\"domain\":{\"x\":[0.0,1.0],\"y\":[0.0,1.0]},\"hovertemplate\":\"labels=%{label}<br>marketCap=%{value}<br>parent=%{parent}<br>id=%{id}<extra></extra>\",\"ids\":[\"/Consumer Defensive/Farm Products/AUGA group\",\"/Consumer Cyclical/Apparel Retail/Apranga\",\"/Real Estate/Real Estate\\u2014Development/Arco Vara\",\"/Consumer Cyclical/Apparel Retail/Baltika\",\"/Financial Services/Banks\\u2014Regional/Coop Pank\",\"/Financial Services/Credit Services/DelfinGroup\",\"/Communication Services/Advertising Agencies/Ekspress Grupp\",\"/Utilities/Utilities\\u2014Renewable/Enefit Green\",\"/Basic Materials/Paper & Paper Products/Grigeo\",\"/Industrials/Conglomerates/HansaMatrix\",\"/Industrials/Electrical Equipment & Parts/Harju Elekter\",\"/Real Estate/Real Estate\\u2014Development/Hepsor\",\"/Utilities/Utilities\\u2014Diversified/Ignitis grup\\u0117\",\"/Energy/Oil & Gas Midstream/Klaip\\u0117dos nafta\",\"/Financial Services/Banks\\u2014Regional/LHV Group\",\"/Industrials/Engineering & Construction/Merko Ehitus\",\"/Industrials/Engineering & Construction/Nordecon\",\"/Consumer Cyclical/Travel Services/Novaturas\",\"/Industrials/Engineering & Construction/Panev\\u0117\\u017eio statybos trestas\",\"/Consumer Defensive/Packaged Foods/Pieno \\u017evaig\\u017ed\\u0117s\",\"/Real Estate/Real Estate\\u2014Diversified/Pro Kapital Grupp\",\"/Consumer Defensive/Packaged Foods/Roki\\u0161kio s\\u016bris\",\"/Consumer Cyclical/Apparel Manufacturing/Silvano Fashion GroupLP\",\"/Industrials/Marine Shipping/Tallink Grupp\",\"/Consumer Cyclical/Department Stores/Tallinna Kaubamaja Grupp\",\"/Industrials/Marine Shipping/Tallinna Sadam\",\"/Utilities/Utilities\\u2014Regulated Water/Tallinna Vesi\",\"/Communication Services/Telecom Services/Telia Lietuva\",\"/Consumer Defensive/Packaged Foods/Vilky\\u0161ki\\u0173 pienin\\u0117\",\"/Financial Services/Banks\\u2014Regional/\\u0160iauli\\u0173 bankas\",\"/Communication Services/Advertising Agencies\",\"/Consumer Cyclical/Apparel Manufacturing\",\"/Consumer Cyclical/Apparel Retail\",\"/Financial Services/Banks\\u2014Regional\",\"/Industrials/Conglomerates\",\"/Financial Services/Credit Services\",\"/Consumer Cyclical/Department Stores\",\"/Industrials/Electrical Equipment & Parts\",\"/Industrials/Engineering & Construction\",\"/Consumer Defensive/Farm Products\",\"/Industrials/Marine Shipping\",\"/Energy/Oil & Gas Midstream\",\"/Consumer Defensive/Packaged Foods\",\"/Basic Materials/Paper & Paper Products\",\"/Real Estate/Real Estate\\u2014Development\",\"/Real Estate/Real Estate\\u2014Diversified\",\"/Communication Services/Telecom Services\",\"/Consumer Cyclical/Travel Services\",\"/Utilities/Utilities\\u2014Diversified\",\"/Utilities/Utilities\\u2014Regulated Water\",\"/Utilities/Utilities\\u2014Renewable\",\"/Basic Materials\",\"/Communication Services\",\"/Consumer Cyclical\",\"/Consumer Defensive\",\"/Energy\",\"/Financial Services\",\"/Industrials\",\"/Real Estate\",\"/Utilities\",\"\"],\"labels\":[\"AUGA group\",\"Apranga\",\"Arco Vara\",\"Baltika\",\"Coop Pank\",\"DelfinGroup\",\"Ekspress Grupp\",\"Enefit Green\",\"Grigeo\",\"HansaMatrix\",\"Harju Elekter\",\"Hepsor\",\"Ignitis grup\\u0117\",\"Klaip\\u0117dos nafta\",\"LHV Group\",\"Merko Ehitus\",\"Nordecon\",\"Novaturas\",\"Panev\\u0117\\u017eio statybos trestas\",\"Pieno \\u017evaig\\u017ed\\u0117s\",\"Pro Kapital Grupp\",\"Roki\\u0161kio s\\u016bris\",\"Silvano Fashion GroupLP\",\"Tallink Grupp\",\"Tallinna Kaubamaja Grupp\",\"Tallinna Sadam\",\"Tallinna Vesi\",\"Telia Lietuva\",\"Vilky\\u0161ki\\u0173 pienin\\u0117\",\"\\u0160iauli\\u0173 bankas\",\"Advertising Agencies\",\"Apparel Manufacturing\",\"Apparel Retail\",\"Banks\\u2014Regional\",\"Conglomerates\",\"Credit Services\",\"Department Stores\",\"Electrical Equipment & Parts\",\"Engineering & Construction\",\"Farm Products\",\"Marine Shipping\",\"Oil & Gas Midstream\",\"Packaged Foods\",\"Paper & Paper Products\",\"Real Estate\\u2014Development\",\"Real Estate\\u2014Diversified\",\"Telecom Services\",\"Travel Services\",\"Utilities\\u2014Diversified\",\"Utilities\\u2014Regulated Water\",\"Utilities\\u2014Renewable\",\"Basic Materials\",\"Communication Services\",\"Consumer Cyclical\",\"Consumer Defensive\",\"Energy\",\"Financial Services\",\"Industrials\",\"Real Estate\",\"Utilities\",\"\"],\"name\":\"\",\"parents\":[\"/Consumer Defensive/Farm Products\",\"/Consumer Cyclical/Apparel Retail\",\"/Real Estate/Real Estate\\u2014Development\",\"/Consumer Cyclical/Apparel Retail\",\"/Financial Services/Banks\\u2014Regional\",\"/Financial Services/Credit Services\",\"/Communication Services/Advertising Agencies\",\"/Utilities/Utilities\\u2014Renewable\",\"/Basic Materials/Paper & Paper Products\",\"/Industrials/Conglomerates\",\"/Industrials/Electrical Equipment & Parts\",\"/Real Estate/Real Estate\\u2014Development\",\"/Utilities/Utilities\\u2014Diversified\",\"/Energy/Oil & Gas Midstream\",\"/Financial Services/Banks\\u2014Regional\",\"/Industrials/Engineering & Construction\",\"/Industrials/Engineering & Construction\",\"/Consumer Cyclical/Travel Services\",\"/Industrials/Engineering & Construction\",\"/Consumer Defensive/Packaged Foods\",\"/Real Estate/Real Estate\\u2014Diversified\",\"/Consumer Defensive/Packaged Foods\",\"/Consumer Cyclical/Apparel Manufacturing\",\"/Industrials/Marine Shipping\",\"/Consumer Cyclical/Department Stores\",\"/Industrials/Marine Shipping\",\"/Utilities/Utilities\\u2014Regulated Water\",\"/Communication Services/Telecom Services\",\"/Consumer Defensive/Packaged Foods\",\"/Financial Services/Banks\\u2014Regional\",\"/Communication Services\",\"/Consumer Cyclical\",\"/Consumer Cyclical\",\"/Financial Services\",\"/Industrials\",\"/Financial Services\",\"/Consumer Cyclical\",\"/Industrials\",\"/Industrials\",\"/Consumer Defensive\",\"/Industrials\",\"/Energy\",\"/Consumer Defensive\",\"/Basic Materials\",\"/Real Estate\",\"/Real Estate\",\"/Communication Services\",\"/Consumer Cyclical\",\"/Utilities\",\"/Utilities\",\"/Utilities\",\"\",\"\",\"\",\"\",\"\",\"\",\"\",\"\",\"\",\"\"],\"values\":[91193816.0,107819400.0,18366692.0,8436402.0,208072480.0,58400000.0,45272936.0,1125815808.0,96973200.0,12220258.0,101624904.0,0.0,1415849216.0,87871704.0,92452504.0,250278000.0,22421634.0,23421000.0,8763600.0,51904560.0,35600064.0,105020096.0,38887200.0,338960288.0,388556576.0,379246016.0,254000000.0,1133182336.0,57445828.0,394676992.0,45272936.0,38887200.0,116255802.0,695201976.0,12220258.0,58400000.0,388556576.0,101624904.0,281463234.0,91193816.0,718206304.0,87871704.0,214370484.0,96973200.0,18366692.0,35600064.0,1133182336.0,23421000.0,1415849216.0,254000000.0,1125815808.0,96973200.0,1178455272.0,567120578.0,305564300.0,87871704.0,753601976.0,1113514700.0,53966756.0,2795665024.0,6952733510.0],\"type\":\"treemap\"}],                        {\"template\":{\"data\":{\"bar\":[{\"error_x\":{\"color\":\"#2a3f5f\"},\"error_y\":{\"color\":\"#2a3f5f\"},\"marker\":{\"line\":{\"color\":\"#E5ECF6\",\"width\":0.5},\"pattern\":{\"fillmode\":\"overlay\",\"size\":10,\"solidity\":0.2}},\"type\":\"bar\"}],\"barpolar\":[{\"marker\":{\"line\":{\"color\":\"#E5ECF6\",\"width\":0.5},\"pattern\":{\"fillmode\":\"overlay\",\"size\":10,\"solidity\":0.2}},\"type\":\"barpolar\"}],\"carpet\":[{\"aaxis\":{\"endlinecolor\":\"#2a3f5f\",\"gridcolor\":\"white\",\"linecolor\":\"white\",\"minorgridcolor\":\"white\",\"startlinecolor\":\"#2a3f5f\"},\"baxis\":{\"endlinecolor\":\"#2a3f5f\",\"gridcolor\":\"white\",\"linecolor\":\"white\",\"minorgridcolor\":\"white\",\"startlinecolor\":\"#2a3f5f\"},\"type\":\"carpet\"}],\"choropleth\":[{\"colorbar\":{\"outlinewidth\":0,\"ticks\":\"\"},\"type\":\"choropleth\"}],\"contour\":[{\"colorbar\":{\"outlinewidth\":0,\"ticks\":\"\"},\"colorscale\":[[0.0,\"#0d0887\"],[0.1111111111111111,\"#46039f\"],[0.2222222222222222,\"#7201a8\"],[0.3333333333333333,\"#9c179e\"],[0.4444444444444444,\"#bd3786\"],[0.5555555555555556,\"#d8576b\"],[0.6666666666666666,\"#ed7953\"],[0.7777777777777778,\"#fb9f3a\"],[0.8888888888888888,\"#fdca26\"],[1.0,\"#f0f921\"]],\"type\":\"contour\"}],\"contourcarpet\":[{\"colorbar\":{\"outlinewidth\":0,\"ticks\":\"\"},\"type\":\"contourcarpet\"}],\"heatmap\":[{\"colorbar\":{\"outlinewidth\":0,\"ticks\":\"\"},\"colorscale\":[[0.0,\"#0d0887\"],[0.1111111111111111,\"#46039f\"],[0.2222222222222222,\"#7201a8\"],[0.3333333333333333,\"#9c179e\"],[0.4444444444444444,\"#bd3786\"],[0.5555555555555556,\"#d8576b\"],[0.6666666666666666,\"#ed7953\"],[0.7777777777777778,\"#fb9f3a\"],[0.8888888888888888,\"#fdca26\"],[1.0,\"#f0f921\"]],\"type\":\"heatmap\"}],\"heatmapgl\":[{\"colorbar\":{\"outlinewidth\":0,\"ticks\":\"\"},\"colorscale\":[[0.0,\"#0d0887\"],[0.1111111111111111,\"#46039f\"],[0.2222222222222222,\"#7201a8\"],[0.3333333333333333,\"#9c179e\"],[0.4444444444444444,\"#bd3786\"],[0.5555555555555556,\"#d8576b\"],[0.6666666666666666,\"#ed7953\"],[0.7777777777777778,\"#fb9f3a\"],[0.8888888888888888,\"#fdca26\"],[1.0,\"#f0f921\"]],\"type\":\"heatmapgl\"}],\"histogram\":[{\"marker\":{\"pattern\":{\"fillmode\":\"overlay\",\"size\":10,\"solidity\":0.2}},\"type\":\"histogram\"}],\"histogram2d\":[{\"colorbar\":{\"outlinewidth\":0,\"ticks\":\"\"},\"colorscale\":[[0.0,\"#0d0887\"],[0.1111111111111111,\"#46039f\"],[0.2222222222222222,\"#7201a8\"],[0.3333333333333333,\"#9c179e\"],[0.4444444444444444,\"#bd3786\"],[0.5555555555555556,\"#d8576b\"],[0.6666666666666666,\"#ed7953\"],[0.7777777777777778,\"#fb9f3a\"],[0.8888888888888888,\"#fdca26\"],[1.0,\"#f0f921\"]],\"type\":\"histogram2d\"}],\"histogram2dcontour\":[{\"colorbar\":{\"outlinewidth\":0,\"ticks\":\"\"},\"colorscale\":[[0.0,\"#0d0887\"],[0.1111111111111111,\"#46039f\"],[0.2222222222222222,\"#7201a8\"],[0.3333333333333333,\"#9c179e\"],[0.4444444444444444,\"#bd3786\"],[0.5555555555555556,\"#d8576b\"],[0.6666666666666666,\"#ed7953\"],[0.7777777777777778,\"#fb9f3a\"],[0.8888888888888888,\"#fdca26\"],[1.0,\"#f0f921\"]],\"type\":\"histogram2dcontour\"}],\"mesh3d\":[{\"colorbar\":{\"outlinewidth\":0,\"ticks\":\"\"},\"type\":\"mesh3d\"}],\"parcoords\":[{\"line\":{\"colorbar\":{\"outlinewidth\":0,\"ticks\":\"\"}},\"type\":\"parcoords\"}],\"pie\":[{\"automargin\":true,\"type\":\"pie\"}],\"scatter\":[{\"marker\":{\"colorbar\":{\"outlinewidth\":0,\"ticks\":\"\"}},\"type\":\"scatter\"}],\"scatter3d\":[{\"line\":{\"colorbar\":{\"outlinewidth\":0,\"ticks\":\"\"}},\"marker\":{\"colorbar\":{\"outlinewidth\":0,\"ticks\":\"\"}},\"type\":\"scatter3d\"}],\"scattercarpet\":[{\"marker\":{\"colorbar\":{\"outlinewidth\":0,\"ticks\":\"\"}},\"type\":\"scattercarpet\"}],\"scattergeo\":[{\"marker\":{\"colorbar\":{\"outlinewidth\":0,\"ticks\":\"\"}},\"type\":\"scattergeo\"}],\"scattergl\":[{\"marker\":{\"colorbar\":{\"outlinewidth\":0,\"ticks\":\"\"}},\"type\":\"scattergl\"}],\"scattermapbox\":[{\"marker\":{\"colorbar\":{\"outlinewidth\":0,\"ticks\":\"\"}},\"type\":\"scattermapbox\"}],\"scatterpolar\":[{\"marker\":{\"colorbar\":{\"outlinewidth\":0,\"ticks\":\"\"}},\"type\":\"scatterpolar\"}],\"scatterpolargl\":[{\"marker\":{\"colorbar\":{\"outlinewidth\":0,\"ticks\":\"\"}},\"type\":\"scatterpolargl\"}],\"scatterternary\":[{\"marker\":{\"colorbar\":{\"outlinewidth\":0,\"ticks\":\"\"}},\"type\":\"scatterternary\"}],\"surface\":[{\"colorbar\":{\"outlinewidth\":0,\"ticks\":\"\"},\"colorscale\":[[0.0,\"#0d0887\"],[0.1111111111111111,\"#46039f\"],[0.2222222222222222,\"#7201a8\"],[0.3333333333333333,\"#9c179e\"],[0.4444444444444444,\"#bd3786\"],[0.5555555555555556,\"#d8576b\"],[0.6666666666666666,\"#ed7953\"],[0.7777777777777778,\"#fb9f3a\"],[0.8888888888888888,\"#fdca26\"],[1.0,\"#f0f921\"]],\"type\":\"surface\"}],\"table\":[{\"cells\":{\"fill\":{\"color\":\"#EBF0F8\"},\"line\":{\"color\":\"white\"}},\"header\":{\"fill\":{\"color\":\"#C8D4E3\"},\"line\":{\"color\":\"white\"}},\"type\":\"table\"}]},\"layout\":{\"annotationdefaults\":{\"arrowcolor\":\"#2a3f5f\",\"arrowhead\":0,\"arrowwidth\":1},\"autotypenumbers\":\"strict\",\"coloraxis\":{\"colorbar\":{\"outlinewidth\":0,\"ticks\":\"\"}},\"colorscale\":{\"diverging\":[[0,\"#8e0152\"],[0.1,\"#c51b7d\"],[0.2,\"#de77ae\"],[0.3,\"#f1b6da\"],[0.4,\"#fde0ef\"],[0.5,\"#f7f7f7\"],[0.6,\"#e6f5d0\"],[0.7,\"#b8e186\"],[0.8,\"#7fbc41\"],[0.9,\"#4d9221\"],[1,\"#276419\"]],\"sequential\":[[0.0,\"#0d0887\"],[0.1111111111111111,\"#46039f\"],[0.2222222222222222,\"#7201a8\"],[0.3333333333333333,\"#9c179e\"],[0.4444444444444444,\"#bd3786\"],[0.5555555555555556,\"#d8576b\"],[0.6666666666666666,\"#ed7953\"],[0.7777777777777778,\"#fb9f3a\"],[0.8888888888888888,\"#fdca26\"],[1.0,\"#f0f921\"]],\"sequentialminus\":[[0.0,\"#0d0887\"],[0.1111111111111111,\"#46039f\"],[0.2222222222222222,\"#7201a8\"],[0.3333333333333333,\"#9c179e\"],[0.4444444444444444,\"#bd3786\"],[0.5555555555555556,\"#d8576b\"],[0.6666666666666666,\"#ed7953\"],[0.7777777777777778,\"#fb9f3a\"],[0.8888888888888888,\"#fdca26\"],[1.0,\"#f0f921\"]]},\"colorway\":[\"#636efa\",\"#EF553B\",\"#00cc96\",\"#ab63fa\",\"#FFA15A\",\"#19d3f3\",\"#FF6692\",\"#B6E880\",\"#FF97FF\",\"#FECB52\"],\"font\":{\"color\":\"#2a3f5f\"},\"geo\":{\"bgcolor\":\"white\",\"lakecolor\":\"white\",\"landcolor\":\"#E5ECF6\",\"showlakes\":true,\"showland\":true,\"subunitcolor\":\"white\"},\"hoverlabel\":{\"align\":\"left\"},\"hovermode\":\"closest\",\"mapbox\":{\"style\":\"light\"},\"paper_bgcolor\":\"white\",\"plot_bgcolor\":\"#E5ECF6\",\"polar\":{\"angularaxis\":{\"gridcolor\":\"white\",\"linecolor\":\"white\",\"ticks\":\"\"},\"bgcolor\":\"#E5ECF6\",\"radialaxis\":{\"gridcolor\":\"white\",\"linecolor\":\"white\",\"ticks\":\"\"}},\"scene\":{\"xaxis\":{\"backgroundcolor\":\"#E5ECF6\",\"gridcolor\":\"white\",\"gridwidth\":2,\"linecolor\":\"white\",\"showbackground\":true,\"ticks\":\"\",\"zerolinecolor\":\"white\"},\"yaxis\":{\"backgroundcolor\":\"#E5ECF6\",\"gridcolor\":\"white\",\"gridwidth\":2,\"linecolor\":\"white\",\"showbackground\":true,\"ticks\":\"\",\"zerolinecolor\":\"white\"},\"zaxis\":{\"backgroundcolor\":\"#E5ECF6\",\"gridcolor\":\"white\",\"gridwidth\":2,\"linecolor\":\"white\",\"showbackground\":true,\"ticks\":\"\",\"zerolinecolor\":\"white\"}},\"shapedefaults\":{\"line\":{\"color\":\"#2a3f5f\"}},\"ternary\":{\"aaxis\":{\"gridcolor\":\"white\",\"linecolor\":\"white\",\"ticks\":\"\"},\"baxis\":{\"gridcolor\":\"white\",\"linecolor\":\"white\",\"ticks\":\"\"},\"bgcolor\":\"#E5ECF6\",\"caxis\":{\"gridcolor\":\"white\",\"linecolor\":\"white\",\"ticks\":\"\"}},\"title\":{\"x\":0.05},\"xaxis\":{\"automargin\":true,\"gridcolor\":\"white\",\"linecolor\":\"white\",\"ticks\":\"\",\"title\":{\"standoff\":15},\"zerolinecolor\":\"white\",\"zerolinewidth\":2},\"yaxis\":{\"automargin\":true,\"gridcolor\":\"white\",\"linecolor\":\"white\",\"ticks\":\"\",\"title\":{\"standoff\":15},\"zerolinecolor\":\"white\",\"zerolinewidth\":2}}},\"legend\":{\"tracegroupgap\":0},\"title\":{\"text\":\"Market capitalization by sector and industry\"},\"margin\":{\"t\":50,\"l\":25,\"r\":25,\"b\":25},\"height\":600,\"width\":1600},                        {\"responsive\": true}                    ).then(function(){\n",
              "                            \n",
              "var gd = document.getElementById('0c514c76-cab0-4a78-9a8d-71bfe76897c0');\n",
              "var x = new MutationObserver(function (mutations, observer) {{\n",
              "        var display = window.getComputedStyle(gd).display;\n",
              "        if (!display || display === 'none') {{\n",
              "            console.log([gd, 'removed!']);\n",
              "            Plotly.purge(gd);\n",
              "            observer.disconnect();\n",
              "        }}\n",
              "}});\n",
              "\n",
              "// Listen for the removal of the full notebook cells\n",
              "var notebookContainer = gd.closest('#notebook-container');\n",
              "if (notebookContainer) {{\n",
              "    x.observe(notebookContainer, {childList: true});\n",
              "}}\n",
              "\n",
              "// Listen for the clearing of the current output cell\n",
              "var outputEl = gd.closest('.output');\n",
              "if (outputEl) {{\n",
              "    x.observe(outputEl, {childList: true});\n",
              "}}\n",
              "\n",
              "                        })                };                            </script>        </div>\n",
              "</body>\n",
              "</html>"
            ]
          },
          "metadata": {}
        }
      ]
    },
    {
      "cell_type": "code",
      "source": [
        "df_temp = df_info[['totalRevenue', 'fullTimeEmployees', 'country', 'Company']].dropna()\n",
        "fig = px.scatter(df_temp, x=\"fullTimeEmployees\", y=\"totalRevenue\", \n",
        "                 color=\"country\", \n",
        "                 text='Company',\n",
        "                 color_discrete_map=color_map)\n",
        "fig.update_traces(textposition='top center')\n",
        "fig.update_layout(height=600, width=1600, title_text='Revenue and full-time employees')\n",
        "fig.show()"
      ],
      "metadata": {
        "colab": {
          "base_uri": "https://localhost:8080/",
          "height": 617
        },
        "id": "OuawZcW-GHO9",
        "outputId": "ae4ebc6c-275c-41ca-e098-5a6ce40ecf83"
      },
      "execution_count": null,
      "outputs": [
        {
          "output_type": "display_data",
          "data": {
            "text/html": [
              "<html>\n",
              "<head><meta charset=\"utf-8\" /></head>\n",
              "<body>\n",
              "    <div>            <script src=\"https://cdnjs.cloudflare.com/ajax/libs/mathjax/2.7.5/MathJax.js?config=TeX-AMS-MML_SVG\"></script><script type=\"text/javascript\">if (window.MathJax) {MathJax.Hub.Config({SVG: {font: \"STIX-Web\"}});}</script>                <script type=\"text/javascript\">window.PlotlyConfig = {MathJaxConfig: 'local'};</script>\n",
              "        <script src=\"https://cdn.plot.ly/plotly-2.8.3.min.js\"></script>                <div id=\"0aa5a3b8-5264-499a-95cd-4bc5429ff505\" class=\"plotly-graph-div\" style=\"height:600px; width:1600px;\"></div>            <script type=\"text/javascript\">                                    window.PLOTLYENV=window.PLOTLYENV || {};                                    if (document.getElementById(\"0aa5a3b8-5264-499a-95cd-4bc5429ff505\")) {                    Plotly.newPlot(                        \"0aa5a3b8-5264-499a-95cd-4bc5429ff505\",                        [{\"hovertemplate\":\"country=Lithuania<br>fullTimeEmployees=%{x}<br>totalRevenue=%{y}<br>Company=%{text}<extra></extra>\",\"legendgroup\":\"Lithuania\",\"marker\":{\"color\":\"rgb(4, 106, 56)\",\"symbol\":\"circle\"},\"mode\":\"markers+text\",\"name\":\"Lithuania\",\"orientation\":\"v\",\"showlegend\":true,\"text\":[\"Apranga\",\"AUGA group\",\"Grigeo\",\"Ignitis grup\\u0117\",\"Klaip\\u0117dos nafta\",\"Novaturas\",\"Panev\\u0117\\u017eio statybos trestas\",\"Pieno \\u017evaig\\u017ed\\u0117s\",\"Roki\\u0161kio s\\u016bris\",\"\\u0160iauli\\u0173 bankas\",\"Telia Lietuva\",\"Vilky\\u0161ki\\u0173 pienin\\u0117\"],\"x\":[2156,1205,864,3884,355,160,831,1672,1300,905,1954,871],\"xaxis\":\"x\",\"y\":[227806000.0,72588000.0,191322000.0,2882760960.0,66158000.0,171528000.0,106467000.0,192358000.0,313817984.0,125269000.0,425351008.0,201034000.0],\"yaxis\":\"y\",\"type\":\"scatter\",\"textposition\":\"top center\"},{\"hovertemplate\":\"country=Estonia<br>fullTimeEmployees=%{x}<br>totalRevenue=%{y}<br>Company=%{text}<extra></extra>\",\"legendgroup\":\"Estonia\",\"marker\":{\"color\":\"rgb(0,114,206)\",\"symbol\":\"circle\"},\"mode\":\"markers+text\",\"name\":\"Estonia\",\"orientation\":\"v\",\"showlegend\":true,\"text\":[\"Arco Vara\",\"Baltika\",\"Coop Pank\",\"Ekspress Grupp\",\"Enefit Green\",\"Harju Elekter\",\"Hepsor\",\"LHV Group\",\"Merko Ehitus\",\"Nordecon\",\"Pro Kapital Grupp\",\"Silvano Fashion GroupLP\",\"Tallinna Kaubamaja Grupp\",\"Tallinna Sadam\",\"Tallinna Vesi\"],\"x\":[18,157,300,1400,220,865,23,820,670,671,72,1607,4700,464,328],\"xaxis\":\"x\",\"y\":[8878000.0,10814000.0,44868000.0,59044000.0,218620992.0,168876992.0,15041000.0,150168000.0,349712992.0,319824000.0,66982000.0,49831000.0,845921024.0,117938000.0,53596000.0],\"yaxis\":\"y\",\"type\":\"scatter\",\"textposition\":\"top center\"},{\"hovertemplate\":\"country=Latvia<br>fullTimeEmployees=%{x}<br>totalRevenue=%{y}<br>Company=%{text}<extra></extra>\",\"legendgroup\":\"Latvia\",\"marker\":{\"color\":\"rgb(164,52,58)\",\"symbol\":\"circle\"},\"mode\":\"markers+text\",\"name\":\"Latvia\",\"orientation\":\"v\",\"showlegend\":true,\"text\":[\"DelfinGroup\",\"HansaMatrix\"],\"x\":[300,183],\"xaxis\":\"x\",\"y\":[24371652.0,22677096.0],\"yaxis\":\"y\",\"type\":\"scatter\",\"textposition\":\"top center\"}],                        {\"template\":{\"data\":{\"bar\":[{\"error_x\":{\"color\":\"#2a3f5f\"},\"error_y\":{\"color\":\"#2a3f5f\"},\"marker\":{\"line\":{\"color\":\"#E5ECF6\",\"width\":0.5},\"pattern\":{\"fillmode\":\"overlay\",\"size\":10,\"solidity\":0.2}},\"type\":\"bar\"}],\"barpolar\":[{\"marker\":{\"line\":{\"color\":\"#E5ECF6\",\"width\":0.5},\"pattern\":{\"fillmode\":\"overlay\",\"size\":10,\"solidity\":0.2}},\"type\":\"barpolar\"}],\"carpet\":[{\"aaxis\":{\"endlinecolor\":\"#2a3f5f\",\"gridcolor\":\"white\",\"linecolor\":\"white\",\"minorgridcolor\":\"white\",\"startlinecolor\":\"#2a3f5f\"},\"baxis\":{\"endlinecolor\":\"#2a3f5f\",\"gridcolor\":\"white\",\"linecolor\":\"white\",\"minorgridcolor\":\"white\",\"startlinecolor\":\"#2a3f5f\"},\"type\":\"carpet\"}],\"choropleth\":[{\"colorbar\":{\"outlinewidth\":0,\"ticks\":\"\"},\"type\":\"choropleth\"}],\"contour\":[{\"colorbar\":{\"outlinewidth\":0,\"ticks\":\"\"},\"colorscale\":[[0.0,\"#0d0887\"],[0.1111111111111111,\"#46039f\"],[0.2222222222222222,\"#7201a8\"],[0.3333333333333333,\"#9c179e\"],[0.4444444444444444,\"#bd3786\"],[0.5555555555555556,\"#d8576b\"],[0.6666666666666666,\"#ed7953\"],[0.7777777777777778,\"#fb9f3a\"],[0.8888888888888888,\"#fdca26\"],[1.0,\"#f0f921\"]],\"type\":\"contour\"}],\"contourcarpet\":[{\"colorbar\":{\"outlinewidth\":0,\"ticks\":\"\"},\"type\":\"contourcarpet\"}],\"heatmap\":[{\"colorbar\":{\"outlinewidth\":0,\"ticks\":\"\"},\"colorscale\":[[0.0,\"#0d0887\"],[0.1111111111111111,\"#46039f\"],[0.2222222222222222,\"#7201a8\"],[0.3333333333333333,\"#9c179e\"],[0.4444444444444444,\"#bd3786\"],[0.5555555555555556,\"#d8576b\"],[0.6666666666666666,\"#ed7953\"],[0.7777777777777778,\"#fb9f3a\"],[0.8888888888888888,\"#fdca26\"],[1.0,\"#f0f921\"]],\"type\":\"heatmap\"}],\"heatmapgl\":[{\"colorbar\":{\"outlinewidth\":0,\"ticks\":\"\"},\"colorscale\":[[0.0,\"#0d0887\"],[0.1111111111111111,\"#46039f\"],[0.2222222222222222,\"#7201a8\"],[0.3333333333333333,\"#9c179e\"],[0.4444444444444444,\"#bd3786\"],[0.5555555555555556,\"#d8576b\"],[0.6666666666666666,\"#ed7953\"],[0.7777777777777778,\"#fb9f3a\"],[0.8888888888888888,\"#fdca26\"],[1.0,\"#f0f921\"]],\"type\":\"heatmapgl\"}],\"histogram\":[{\"marker\":{\"pattern\":{\"fillmode\":\"overlay\",\"size\":10,\"solidity\":0.2}},\"type\":\"histogram\"}],\"histogram2d\":[{\"colorbar\":{\"outlinewidth\":0,\"ticks\":\"\"},\"colorscale\":[[0.0,\"#0d0887\"],[0.1111111111111111,\"#46039f\"],[0.2222222222222222,\"#7201a8\"],[0.3333333333333333,\"#9c179e\"],[0.4444444444444444,\"#bd3786\"],[0.5555555555555556,\"#d8576b\"],[0.6666666666666666,\"#ed7953\"],[0.7777777777777778,\"#fb9f3a\"],[0.8888888888888888,\"#fdca26\"],[1.0,\"#f0f921\"]],\"type\":\"histogram2d\"}],\"histogram2dcontour\":[{\"colorbar\":{\"outlinewidth\":0,\"ticks\":\"\"},\"colorscale\":[[0.0,\"#0d0887\"],[0.1111111111111111,\"#46039f\"],[0.2222222222222222,\"#7201a8\"],[0.3333333333333333,\"#9c179e\"],[0.4444444444444444,\"#bd3786\"],[0.5555555555555556,\"#d8576b\"],[0.6666666666666666,\"#ed7953\"],[0.7777777777777778,\"#fb9f3a\"],[0.8888888888888888,\"#fdca26\"],[1.0,\"#f0f921\"]],\"type\":\"histogram2dcontour\"}],\"mesh3d\":[{\"colorbar\":{\"outlinewidth\":0,\"ticks\":\"\"},\"type\":\"mesh3d\"}],\"parcoords\":[{\"line\":{\"colorbar\":{\"outlinewidth\":0,\"ticks\":\"\"}},\"type\":\"parcoords\"}],\"pie\":[{\"automargin\":true,\"type\":\"pie\"}],\"scatter\":[{\"marker\":{\"colorbar\":{\"outlinewidth\":0,\"ticks\":\"\"}},\"type\":\"scatter\"}],\"scatter3d\":[{\"line\":{\"colorbar\":{\"outlinewidth\":0,\"ticks\":\"\"}},\"marker\":{\"colorbar\":{\"outlinewidth\":0,\"ticks\":\"\"}},\"type\":\"scatter3d\"}],\"scattercarpet\":[{\"marker\":{\"colorbar\":{\"outlinewidth\":0,\"ticks\":\"\"}},\"type\":\"scattercarpet\"}],\"scattergeo\":[{\"marker\":{\"colorbar\":{\"outlinewidth\":0,\"ticks\":\"\"}},\"type\":\"scattergeo\"}],\"scattergl\":[{\"marker\":{\"colorbar\":{\"outlinewidth\":0,\"ticks\":\"\"}},\"type\":\"scattergl\"}],\"scattermapbox\":[{\"marker\":{\"colorbar\":{\"outlinewidth\":0,\"ticks\":\"\"}},\"type\":\"scattermapbox\"}],\"scatterpolar\":[{\"marker\":{\"colorbar\":{\"outlinewidth\":0,\"ticks\":\"\"}},\"type\":\"scatterpolar\"}],\"scatterpolargl\":[{\"marker\":{\"colorbar\":{\"outlinewidth\":0,\"ticks\":\"\"}},\"type\":\"scatterpolargl\"}],\"scatterternary\":[{\"marker\":{\"colorbar\":{\"outlinewidth\":0,\"ticks\":\"\"}},\"type\":\"scatterternary\"}],\"surface\":[{\"colorbar\":{\"outlinewidth\":0,\"ticks\":\"\"},\"colorscale\":[[0.0,\"#0d0887\"],[0.1111111111111111,\"#46039f\"],[0.2222222222222222,\"#7201a8\"],[0.3333333333333333,\"#9c179e\"],[0.4444444444444444,\"#bd3786\"],[0.5555555555555556,\"#d8576b\"],[0.6666666666666666,\"#ed7953\"],[0.7777777777777778,\"#fb9f3a\"],[0.8888888888888888,\"#fdca26\"],[1.0,\"#f0f921\"]],\"type\":\"surface\"}],\"table\":[{\"cells\":{\"fill\":{\"color\":\"#EBF0F8\"},\"line\":{\"color\":\"white\"}},\"header\":{\"fill\":{\"color\":\"#C8D4E3\"},\"line\":{\"color\":\"white\"}},\"type\":\"table\"}]},\"layout\":{\"annotationdefaults\":{\"arrowcolor\":\"#2a3f5f\",\"arrowhead\":0,\"arrowwidth\":1},\"autotypenumbers\":\"strict\",\"coloraxis\":{\"colorbar\":{\"outlinewidth\":0,\"ticks\":\"\"}},\"colorscale\":{\"diverging\":[[0,\"#8e0152\"],[0.1,\"#c51b7d\"],[0.2,\"#de77ae\"],[0.3,\"#f1b6da\"],[0.4,\"#fde0ef\"],[0.5,\"#f7f7f7\"],[0.6,\"#e6f5d0\"],[0.7,\"#b8e186\"],[0.8,\"#7fbc41\"],[0.9,\"#4d9221\"],[1,\"#276419\"]],\"sequential\":[[0.0,\"#0d0887\"],[0.1111111111111111,\"#46039f\"],[0.2222222222222222,\"#7201a8\"],[0.3333333333333333,\"#9c179e\"],[0.4444444444444444,\"#bd3786\"],[0.5555555555555556,\"#d8576b\"],[0.6666666666666666,\"#ed7953\"],[0.7777777777777778,\"#fb9f3a\"],[0.8888888888888888,\"#fdca26\"],[1.0,\"#f0f921\"]],\"sequentialminus\":[[0.0,\"#0d0887\"],[0.1111111111111111,\"#46039f\"],[0.2222222222222222,\"#7201a8\"],[0.3333333333333333,\"#9c179e\"],[0.4444444444444444,\"#bd3786\"],[0.5555555555555556,\"#d8576b\"],[0.6666666666666666,\"#ed7953\"],[0.7777777777777778,\"#fb9f3a\"],[0.8888888888888888,\"#fdca26\"],[1.0,\"#f0f921\"]]},\"colorway\":[\"#636efa\",\"#EF553B\",\"#00cc96\",\"#ab63fa\",\"#FFA15A\",\"#19d3f3\",\"#FF6692\",\"#B6E880\",\"#FF97FF\",\"#FECB52\"],\"font\":{\"color\":\"#2a3f5f\"},\"geo\":{\"bgcolor\":\"white\",\"lakecolor\":\"white\",\"landcolor\":\"#E5ECF6\",\"showlakes\":true,\"showland\":true,\"subunitcolor\":\"white\"},\"hoverlabel\":{\"align\":\"left\"},\"hovermode\":\"closest\",\"mapbox\":{\"style\":\"light\"},\"paper_bgcolor\":\"white\",\"plot_bgcolor\":\"#E5ECF6\",\"polar\":{\"angularaxis\":{\"gridcolor\":\"white\",\"linecolor\":\"white\",\"ticks\":\"\"},\"bgcolor\":\"#E5ECF6\",\"radialaxis\":{\"gridcolor\":\"white\",\"linecolor\":\"white\",\"ticks\":\"\"}},\"scene\":{\"xaxis\":{\"backgroundcolor\":\"#E5ECF6\",\"gridcolor\":\"white\",\"gridwidth\":2,\"linecolor\":\"white\",\"showbackground\":true,\"ticks\":\"\",\"zerolinecolor\":\"white\"},\"yaxis\":{\"backgroundcolor\":\"#E5ECF6\",\"gridcolor\":\"white\",\"gridwidth\":2,\"linecolor\":\"white\",\"showbackground\":true,\"ticks\":\"\",\"zerolinecolor\":\"white\"},\"zaxis\":{\"backgroundcolor\":\"#E5ECF6\",\"gridcolor\":\"white\",\"gridwidth\":2,\"linecolor\":\"white\",\"showbackground\":true,\"ticks\":\"\",\"zerolinecolor\":\"white\"}},\"shapedefaults\":{\"line\":{\"color\":\"#2a3f5f\"}},\"ternary\":{\"aaxis\":{\"gridcolor\":\"white\",\"linecolor\":\"white\",\"ticks\":\"\"},\"baxis\":{\"gridcolor\":\"white\",\"linecolor\":\"white\",\"ticks\":\"\"},\"bgcolor\":\"#E5ECF6\",\"caxis\":{\"gridcolor\":\"white\",\"linecolor\":\"white\",\"ticks\":\"\"}},\"title\":{\"x\":0.05},\"xaxis\":{\"automargin\":true,\"gridcolor\":\"white\",\"linecolor\":\"white\",\"ticks\":\"\",\"title\":{\"standoff\":15},\"zerolinecolor\":\"white\",\"zerolinewidth\":2},\"yaxis\":{\"automargin\":true,\"gridcolor\":\"white\",\"linecolor\":\"white\",\"ticks\":\"\",\"title\":{\"standoff\":15},\"zerolinecolor\":\"white\",\"zerolinewidth\":2}}},\"xaxis\":{\"anchor\":\"y\",\"domain\":[0.0,1.0],\"title\":{\"text\":\"fullTimeEmployees\"}},\"yaxis\":{\"anchor\":\"x\",\"domain\":[0.0,1.0],\"title\":{\"text\":\"totalRevenue\"}},\"legend\":{\"title\":{\"text\":\"country\"},\"tracegroupgap\":0},\"margin\":{\"t\":60},\"title\":{\"text\":\"Revenue and full-time employees\"},\"height\":600,\"width\":1600},                        {\"responsive\": true}                    ).then(function(){\n",
              "                            \n",
              "var gd = document.getElementById('0aa5a3b8-5264-499a-95cd-4bc5429ff505');\n",
              "var x = new MutationObserver(function (mutations, observer) {{\n",
              "        var display = window.getComputedStyle(gd).display;\n",
              "        if (!display || display === 'none') {{\n",
              "            console.log([gd, 'removed!']);\n",
              "            Plotly.purge(gd);\n",
              "            observer.disconnect();\n",
              "        }}\n",
              "}});\n",
              "\n",
              "// Listen for the removal of the full notebook cells\n",
              "var notebookContainer = gd.closest('#notebook-container');\n",
              "if (notebookContainer) {{\n",
              "    x.observe(notebookContainer, {childList: true});\n",
              "}}\n",
              "\n",
              "// Listen for the clearing of the current output cell\n",
              "var outputEl = gd.closest('.output');\n",
              "if (outputEl) {{\n",
              "    x.observe(outputEl, {childList: true});\n",
              "}}\n",
              "\n",
              "                        })                };                            </script>        </div>\n",
              "</body>\n",
              "</html>"
            ]
          },
          "metadata": {}
        }
      ]
    },
    {
      "cell_type": "markdown",
      "source": [
        "We see that the majority of the companies in the Baltic Main List are either Lithuanian or Estonian, with Latvia having only 2 companies out of 30. \n",
        "*   The biggest companies bt Market Cap are Ignitis (LT), Telia Lietuva (LT), and Enefit Green (EE) \n",
        "*   The industries were the biggest companies operate are Utilities, Communications, Industrials (Marine Shipping), and Financial Services\n",
        "*   Talinna Kaubamaja Group (EE) has the biggest employee count - 4700, while Ignitis (LT) has the highest revenue (2.88 B eur)"
      ],
      "metadata": {
        "id": "2L1eaufKzA6X"
      }
    },
    {
      "cell_type": "markdown",
      "source": [
        "## Features and Fundamental Data"
      ],
      "metadata": {
        "id": "Vp6KFnEF1TTl"
      }
    },
    {
      "cell_type": "code",
      "source": [
        "# Combine Company information, Balance Sheet, Profit & Loss and Cash Flow into one single dataframe. \n",
        "# Some columns appear in two dataframes ('Minority Interest' in BS and PL, and 'Net Income' in PL and CF), so we drop the duplicate\n",
        "\n",
        "df_bs = pd.read_csv('balance_sheet.csv', index_col=0)\n",
        "df_pl = pd.read_csv('profit_loss.csv', index_col=0)\n",
        "df_cf = pd.read_csv('cash_flow.csv', index_col=0)\n",
        "df = df_info.join([df_bs, df_pl.drop('Minority Interest', axis=1), df_cf.drop('Net Income', axis=1)])\n",
        "\n",
        "# Drop columns doesnt have any information (null values for all companies)\n",
        "\n",
        "df = df.dropna(how='all', axis=1)\n",
        "df.info(verbose=True, show_counts=True)"
      ],
      "metadata": {
        "colab": {
          "base_uri": "https://localhost:8080/"
        },
        "id": "GEEUXoThdril",
        "outputId": "16ff70c6-4d7e-43fd-d65c-fcd2a93cf479"
      },
      "execution_count": null,
      "outputs": [
        {
          "output_type": "stream",
          "name": "stdout",
          "text": [
            "<class 'pandas.core.frame.DataFrame'>\n",
            "Index: 30 entries, APG1L.VS to VLP1L.VS\n",
            "Data columns (total 182 columns):\n",
            " #    Column                                        Non-Null Count  Dtype  \n",
            "---   ------                                        --------------  -----  \n",
            " 0    zip                                           30 non-null     int64  \n",
            " 1    sector                                        30 non-null     object \n",
            " 2    fullTimeEmployees                             30 non-null     int64  \n",
            " 3    longBusinessSummary                           30 non-null     object \n",
            " 4    city                                          30 non-null     object \n",
            " 5    phone                                         29 non-null     object \n",
            " 6    country                                       30 non-null     object \n",
            " 7    companyOfficers                               30 non-null     object \n",
            " 8    website                                       30 non-null     object \n",
            " 9    maxAge                                        30 non-null     int64  \n",
            " 10   address1                                      30 non-null     object \n",
            " 11   fax                                           19 non-null     object \n",
            " 12   industry                                      30 non-null     object \n",
            " 13   ebitdaMargins                                 30 non-null     float64\n",
            " 14   profitMargins                                 30 non-null     float64\n",
            " 15   grossMargins                                  30 non-null     float64\n",
            " 16   operatingCashflow                             27 non-null     float64\n",
            " 17   revenueGrowth                                 29 non-null     float64\n",
            " 18   operatingMargins                              30 non-null     float64\n",
            " 19   ebitda                                        25 non-null     float64\n",
            " 20   targetLowPrice                                7 non-null      float64\n",
            " 21   recommendationKey                             30 non-null     object \n",
            " 22   grossProfits                                  30 non-null     int64  \n",
            " 23   freeCashflow                                  24 non-null     float64\n",
            " 24   targetMedianPrice                             7 non-null      float64\n",
            " 25   currentPrice                                  30 non-null     float64\n",
            " 26   earningsGrowth                                19 non-null     float64\n",
            " 27   currentRatio                                  26 non-null     float64\n",
            " 28   returnOnAssets                                29 non-null     float64\n",
            " 29   numberOfAnalystOpinions                       7 non-null      float64\n",
            " 30   targetMeanPrice                               7 non-null      float64\n",
            " 31   debtToEquity                                  25 non-null     float64\n",
            " 32   returnOnEquity                                28 non-null     float64\n",
            " 33   targetHighPrice                               7 non-null      float64\n",
            " 34   totalCash                                     29 non-null     float64\n",
            " 35   totalDebt                                     29 non-null     float64\n",
            " 36   totalRevenue                                  29 non-null     float64\n",
            " 37   totalCashPerShare                             29 non-null     float64\n",
            " 38   financialCurrency                             30 non-null     object \n",
            " 39   revenuePerShare                               30 non-null     float64\n",
            " 40   quickRatio                                    26 non-null     float64\n",
            " 41   recommendationMean                            5 non-null      float64\n",
            " 42   exchange                                      30 non-null     object \n",
            " 43   shortName                                     30 non-null     object \n",
            " 44   longName                                      30 non-null     object \n",
            " 45   exchangeTimezoneName                          30 non-null     object \n",
            " 46   exchangeTimezoneShortName                     30 non-null     object \n",
            " 47   isEsgPopulated                                30 non-null     bool   \n",
            " 48   gmtOffSetMilliseconds                         30 non-null     int64  \n",
            " 49   quoteType                                     30 non-null     object \n",
            " 50   symbol                                        30 non-null     object \n",
            " 51   messageBoardId                                30 non-null     object \n",
            " 52   uuid                                          30 non-null     object \n",
            " 53   market                                        30 non-null     object \n",
            " 54   enterpriseToRevenue                           29 non-null     float64\n",
            " 55   enterpriseToEbitda                            25 non-null     float64\n",
            " 56   forwardEps                                    6 non-null      float64\n",
            " 57   sharesOutstanding                             29 non-null     float64\n",
            " 58   bookValue                                     29 non-null     float64\n",
            " 59   lastFiscalYearEnd                             30 non-null     int64  \n",
            " 60   heldPercentInstitutions                       30 non-null     float64\n",
            " 61   netIncomeToCommon                             29 non-null     float64\n",
            " 62   trailingEps                                   29 non-null     float64\n",
            " 63   priceToBook                                   29 non-null     float64\n",
            " 64   heldPercentInsiders                           30 non-null     float64\n",
            " 65   nextFiscalYearEnd                             30 non-null     int64  \n",
            " 66   mostRecentQuarter                             30 non-null     int64  \n",
            " 67   floatShares                                   28 non-null     float64\n",
            " 68   beta                                          25 non-null     float64\n",
            " 69   enterpriseValue                               30 non-null     int64  \n",
            " 70   priceHint                                     30 non-null     int64  \n",
            " 71   lastSplitDate                                 7 non-null      float64\n",
            " 72   lastSplitFactor                               7 non-null      object \n",
            " 73   earningsQuarterlyGrowth                       21 non-null     float64\n",
            " 74   priceToSalesTrailing12Months                  28 non-null     float64\n",
            " 75   pegRatio                                      1 non-null      float64\n",
            " 76   forwardPE                                     6 non-null      float64\n",
            " 77   previousClose                                 30 non-null     float64\n",
            " 78   regularMarketOpen                             30 non-null     float64\n",
            " 79   twoHundredDayAverage                          30 non-null     float64\n",
            " 80   trailingAnnualDividendYield                   25 non-null     float64\n",
            " 81   payoutRatio                                   28 non-null     float64\n",
            " 82   regularMarketDayHigh                          30 non-null     float64\n",
            " 83   averageDailyVolume10Day                       30 non-null     int64  \n",
            " 84   regularMarketPreviousClose                    30 non-null     float64\n",
            " 85   fiftyDayAverage                               30 non-null     float64\n",
            " 86   trailingAnnualDividendRate                    25 non-null     float64\n",
            " 87   open                                          30 non-null     float64\n",
            " 88   averageVolume10days                           30 non-null     int64  \n",
            " 89   dividendRate                                  18 non-null     float64\n",
            " 90   exDividendDate                                28 non-null     float64\n",
            " 91   regularMarketDayLow                           30 non-null     float64\n",
            " 92   currency                                      30 non-null     object \n",
            " 93   trailingPE                                    24 non-null     float64\n",
            " 94   regularMarketVolume                           30 non-null     int64  \n",
            " 95   marketCap                                     29 non-null     float64\n",
            " 96   averageVolume                                 30 non-null     int64  \n",
            " 97   dayLow                                        30 non-null     float64\n",
            " 98   ask                                           30 non-null     float64\n",
            " 99   askSize                                       24 non-null     float64\n",
            " 100  volume                                        30 non-null     int64  \n",
            " 101  fiftyTwoWeekHigh                              30 non-null     float64\n",
            " 102  fiveYearAvgDividendYield                      6 non-null      float64\n",
            " 103  fiftyTwoWeekLow                               30 non-null     float64\n",
            " 104  bid                                           30 non-null     float64\n",
            " 105  tradeable                                     30 non-null     bool   \n",
            " 106  dividendYield                                 18 non-null     float64\n",
            " 107  bidSize                                       24 non-null     float64\n",
            " 108  dayHigh                                       30 non-null     float64\n",
            " 109  regularMarketPrice                            30 non-null     float64\n",
            " 110  logo_url                                      30 non-null     object \n",
            " 111  address2                                      3 non-null      object \n",
            " 112  Company                                       30 non-null     object \n",
            " 113  IND.                                          30 non-null     object \n",
            " 114  SECT.                                         30 non-null     object \n",
            " 115  Home Market                                   30 non-null     object \n",
            " 116  LP                                            30 non-null     int64  \n",
            " 117  under_obs                                     30 non-null     int64  \n",
            " 118  Intangible Assets                             29 non-null     float64\n",
            " 119  Total Liab                                    30 non-null     float64\n",
            " 120  Total Stockholder Equity                      30 non-null     float64\n",
            " 121  Other Current Liab                            30 non-null     float64\n",
            " 122  Total Assets                                  30 non-null     float64\n",
            " 123  Common Stock                                  30 non-null     float64\n",
            " 124  Retained Earnings                             29 non-null     float64\n",
            " 125  Other Liab                                    25 non-null     float64\n",
            " 126  Gains Losses Not Affecting Retained Earnings  23 non-null     float64\n",
            " 127  Other Assets                                  29 non-null     float64\n",
            " 128  Cash                                          30 non-null     float64\n",
            " 129  Total Current Liabilities                     30 non-null     float64\n",
            " 130  Short Long Term Debt                          25 non-null     float64\n",
            " 131  Other Stockholder Equity                      23 non-null     float64\n",
            " 132  Property Plant Equipment                      30 non-null     float64\n",
            " 133  Total Current Assets                          30 non-null     float64\n",
            " 134  Long Term Investments                         21 non-null     float64\n",
            " 135  Net Tangible Assets                           30 non-null     float64\n",
            " 136  Short Term Investments                        2 non-null      float64\n",
            " 137  Net Receivables                               30 non-null     float64\n",
            " 138  Inventory                                     28 non-null     float64\n",
            " 139  Accounts Payable                              30 non-null     float64\n",
            " 140  Other Current Assets                          20 non-null     float64\n",
            " 141  Long Term Debt                                28 non-null     float64\n",
            " 142  Capital Surplus                               21 non-null     float64\n",
            " 143  Minority Interest                             11 non-null     float64\n",
            " 144  Good Will                                     20 non-null     float64\n",
            " 145  Deferred Long Term Asset Charges              16 non-null     float64\n",
            " 146  Deferred Long Term Liab                       8 non-null      float64\n",
            " 147  Income Before Tax                             30 non-null     float64\n",
            " 148  Net Income                                    30 non-null     float64\n",
            " 149  Selling General Administrative                30 non-null     float64\n",
            " 150  Gross Profit                                  30 non-null     float64\n",
            " 151  Ebit                                          30 non-null     float64\n",
            " 152  Operating Income                              30 non-null     float64\n",
            " 153  Other Operating Expenses                      29 non-null     float64\n",
            " 154  Interest Expense                              26 non-null     float64\n",
            " 155  Income Tax Expense                            30 non-null     float64\n",
            " 156  Total Revenue                                 30 non-null     float64\n",
            " 157  Total Operating Expenses                      30 non-null     float64\n",
            " 158  Cost Of Revenue                               30 non-null     float64\n",
            " 159  Total Other Income Expense Net                30 non-null     float64\n",
            " 160  Discontinued Operations                       2 non-null      float64\n",
            " 161  Net Income From Continuing Ops                30 non-null     float64\n",
            " 162  Net Income Applicable To Common Shares        30 non-null     float64\n",
            " 163  Change To Liabilities                         30 non-null     float64\n",
            " 164  Total Cashflows From Investing Activities     30 non-null     float64\n",
            " 165  Net Borrowings                                30 non-null     float64\n",
            " 166  Total Cash From Financing Activities          30 non-null     float64\n",
            " 167  Change In Cash                                30 non-null     float64\n",
            " 168  Total Cash From Operating Activities          30 non-null     float64\n",
            " 169  Depreciation                                  30 non-null     float64\n",
            " 170  Other Cashflows From Investing Activities     22 non-null     float64\n",
            " 171  Change To Inventory                           23 non-null     float64\n",
            " 172  Change To Account Receivables                 22 non-null     float64\n",
            " 173  Change To Netincome                           30 non-null     float64\n",
            " 174  Capital Expenditures                          29 non-null     float64\n",
            " 175  Dividends Paid                                20 non-null     float64\n",
            " 176  Investments                                   11 non-null     float64\n",
            " 177  Issuance Of Stock                             8 non-null      float64\n",
            " 178  Other Cashflows From Financing Activities     22 non-null     float64\n",
            " 179  Change To Operating Activities                16 non-null     float64\n",
            " 180  Effect Of Exchange Rate                       6 non-null      float64\n",
            " 181  Repurchase Of Stock                           2 non-null      float64\n",
            "dtypes: bool(2), float64(133), int64(17), object(30)\n",
            "memory usage: 43.5+ KB\n"
          ]
        }
      ]
    },
    {
      "cell_type": "markdown",
      "source": [
        "We can see that the combined dataset contain valuable information about, current stock price, items from the financial statements, volume, dividends, various growth rates, price ratios, and even analyst rating information. There are 30 companies in the raw dataset, and a total of 182 columns. Many columns have information for every company (30 non-null values), however, quite a few do not, which means that imputation will be necessary for making use of this dataset. \n",
        "We also see that some columns in the dataset contain information about the securities prices - this will be removed at a next step, as we should not have price related information in our explanatory variable list. \n",
        "Next, we will get the pricing data with which we can develop the target variables."
      ],
      "metadata": {
        "id": "HldSkYJKykTz"
      }
    },
    {
      "cell_type": "markdown",
      "source": [
        "## Getting the pricing data"
      ],
      "metadata": {
        "id": "vDhyZP0qkdY0"
      }
    },
    {
      "cell_type": "markdown",
      "source": [
        "On Nasdaq's Investor Calendar we can see that the companies published their Annual Reports at varying dates, with the last one being Pro Kapital Grupp (PKG1T) who published their report on 2022-05-21. The date of this analysis is 2022-11-30, so we need to get the pricing information over this period of time."
      ],
      "metadata": {
        "id": "GQmWCLAkqXN-"
      }
    },
    {
      "cell_type": "code",
      "source": [
        "# Use yfinance to get the pricing data, isolating the Closing prices\n",
        "start_date = '2022-05-21'\n",
        "end_date = '2022-11-30'\n",
        "\n",
        "# Use df's index to pass tickers formatted as a list\n",
        "tickers = yf.Tickers(list(df.index))\n",
        "omx_close = tickers.history(start=start_date, end=end_date).Close\n",
        "omx_close.tail()"
      ],
      "metadata": {
        "colab": {
          "base_uri": "https://localhost:8080/",
          "height": 285
        },
        "id": "DhSBkxxokknB",
        "outputId": "954c0662-d1df-45ab-e083-06acd6267ae9"
      },
      "execution_count": null,
      "outputs": [
        {
          "output_type": "stream",
          "name": "stdout",
          "text": [
            "[*********************100%***********************]  30 of 30 completed\n"
          ]
        },
        {
          "output_type": "execute_result",
          "data": {
            "text/plain": [
              "            APG1L.VS  ARC1T.TL  AUG1L.VS  BLT1T.TL  CPA1T.TL  DGR1R.RG  \\\n",
              "Date                                                                     \n",
              "2022-11-23     1.945  1.778328    0.3978     0.159     2.224     1.452   \n",
              "2022-11-24     1.935  1.764481    0.3998     0.158     2.214     1.460   \n",
              "2022-11-25     1.930  1.748657    0.4018     0.158     2.270     1.462   \n",
              "2022-11-28     1.950  1.748657    0.4005     0.156     2.260     1.460   \n",
              "2022-11-29     1.950  1.748657    0.4010     0.156     2.292     1.452   \n",
              "\n",
              "            EEG1T.TL  EGR1T.TL  GRG1L.VS  HAE1T.TL  ...  PZV1L.VS  RSU1L.VS  \\\n",
              "Date                                                ...                       \n",
              "2022-11-23     1.495     4.224     0.758      5.77  ...     1.140      3.00   \n",
              "2022-11-24     1.490     4.224     0.740      5.75  ...     1.170      3.00   \n",
              "2022-11-25     1.500     4.226     0.734      5.74  ...     1.165      3.00   \n",
              "2022-11-28     1.495     4.220     0.742      5.64  ...     1.120      2.98   \n",
              "2022-11-29     1.495     4.288     0.742      5.62  ...     1.155      3.00   \n",
              "\n",
              "            SAB1L.VS  SFG1T.TL  TAL1T.TL  TEL1L.VS  TKM1T.TL  TSM1T.TL  \\\n",
              "Date                                                                     \n",
              "2022-11-23     0.640    1.0408     0.511     1.950      9.58      1.44   \n",
              "2022-11-24     0.657    1.0450     0.503     1.945      9.56      1.44   \n",
              "2022-11-25     0.650    1.0536     0.498     1.940      9.56      1.44   \n",
              "2022-11-28     0.645    1.0960     0.501     1.950      9.55      1.44   \n",
              "2022-11-29     0.659    1.0940     0.505     1.950      9.54      1.44   \n",
              "\n",
              "            TVE1T.TL  VLP1L.VS  \n",
              "Date                            \n",
              "2022-11-23     12.70      4.80  \n",
              "2022-11-24     12.70      4.80  \n",
              "2022-11-25     12.72      4.78  \n",
              "2022-11-28     12.70      4.80  \n",
              "2022-11-29     12.70      4.81  \n",
              "\n",
              "[5 rows x 30 columns]"
            ],
            "text/html": [
              "\n",
              "  <div id=\"df-13eec174-b769-4887-9252-0b05483f4497\">\n",
              "    <div class=\"colab-df-container\">\n",
              "      <div>\n",
              "<style scoped>\n",
              "    .dataframe tbody tr th:only-of-type {\n",
              "        vertical-align: middle;\n",
              "    }\n",
              "\n",
              "    .dataframe tbody tr th {\n",
              "        vertical-align: top;\n",
              "    }\n",
              "\n",
              "    .dataframe thead th {\n",
              "        text-align: right;\n",
              "    }\n",
              "</style>\n",
              "<table border=\"1\" class=\"dataframe\">\n",
              "  <thead>\n",
              "    <tr style=\"text-align: right;\">\n",
              "      <th></th>\n",
              "      <th>APG1L.VS</th>\n",
              "      <th>ARC1T.TL</th>\n",
              "      <th>AUG1L.VS</th>\n",
              "      <th>BLT1T.TL</th>\n",
              "      <th>CPA1T.TL</th>\n",
              "      <th>DGR1R.RG</th>\n",
              "      <th>EEG1T.TL</th>\n",
              "      <th>EGR1T.TL</th>\n",
              "      <th>GRG1L.VS</th>\n",
              "      <th>HAE1T.TL</th>\n",
              "      <th>...</th>\n",
              "      <th>PZV1L.VS</th>\n",
              "      <th>RSU1L.VS</th>\n",
              "      <th>SAB1L.VS</th>\n",
              "      <th>SFG1T.TL</th>\n",
              "      <th>TAL1T.TL</th>\n",
              "      <th>TEL1L.VS</th>\n",
              "      <th>TKM1T.TL</th>\n",
              "      <th>TSM1T.TL</th>\n",
              "      <th>TVE1T.TL</th>\n",
              "      <th>VLP1L.VS</th>\n",
              "    </tr>\n",
              "    <tr>\n",
              "      <th>Date</th>\n",
              "      <th></th>\n",
              "      <th></th>\n",
              "      <th></th>\n",
              "      <th></th>\n",
              "      <th></th>\n",
              "      <th></th>\n",
              "      <th></th>\n",
              "      <th></th>\n",
              "      <th></th>\n",
              "      <th></th>\n",
              "      <th></th>\n",
              "      <th></th>\n",
              "      <th></th>\n",
              "      <th></th>\n",
              "      <th></th>\n",
              "      <th></th>\n",
              "      <th></th>\n",
              "      <th></th>\n",
              "      <th></th>\n",
              "      <th></th>\n",
              "      <th></th>\n",
              "    </tr>\n",
              "  </thead>\n",
              "  <tbody>\n",
              "    <tr>\n",
              "      <th>2022-11-23</th>\n",
              "      <td>1.945</td>\n",
              "      <td>1.778328</td>\n",
              "      <td>0.3978</td>\n",
              "      <td>0.159</td>\n",
              "      <td>2.224</td>\n",
              "      <td>1.452</td>\n",
              "      <td>1.495</td>\n",
              "      <td>4.224</td>\n",
              "      <td>0.758</td>\n",
              "      <td>5.77</td>\n",
              "      <td>...</td>\n",
              "      <td>1.140</td>\n",
              "      <td>3.00</td>\n",
              "      <td>0.640</td>\n",
              "      <td>1.0408</td>\n",
              "      <td>0.511</td>\n",
              "      <td>1.950</td>\n",
              "      <td>9.58</td>\n",
              "      <td>1.44</td>\n",
              "      <td>12.70</td>\n",
              "      <td>4.80</td>\n",
              "    </tr>\n",
              "    <tr>\n",
              "      <th>2022-11-24</th>\n",
              "      <td>1.935</td>\n",
              "      <td>1.764481</td>\n",
              "      <td>0.3998</td>\n",
              "      <td>0.158</td>\n",
              "      <td>2.214</td>\n",
              "      <td>1.460</td>\n",
              "      <td>1.490</td>\n",
              "      <td>4.224</td>\n",
              "      <td>0.740</td>\n",
              "      <td>5.75</td>\n",
              "      <td>...</td>\n",
              "      <td>1.170</td>\n",
              "      <td>3.00</td>\n",
              "      <td>0.657</td>\n",
              "      <td>1.0450</td>\n",
              "      <td>0.503</td>\n",
              "      <td>1.945</td>\n",
              "      <td>9.56</td>\n",
              "      <td>1.44</td>\n",
              "      <td>12.70</td>\n",
              "      <td>4.80</td>\n",
              "    </tr>\n",
              "    <tr>\n",
              "      <th>2022-11-25</th>\n",
              "      <td>1.930</td>\n",
              "      <td>1.748657</td>\n",
              "      <td>0.4018</td>\n",
              "      <td>0.158</td>\n",
              "      <td>2.270</td>\n",
              "      <td>1.462</td>\n",
              "      <td>1.500</td>\n",
              "      <td>4.226</td>\n",
              "      <td>0.734</td>\n",
              "      <td>5.74</td>\n",
              "      <td>...</td>\n",
              "      <td>1.165</td>\n",
              "      <td>3.00</td>\n",
              "      <td>0.650</td>\n",
              "      <td>1.0536</td>\n",
              "      <td>0.498</td>\n",
              "      <td>1.940</td>\n",
              "      <td>9.56</td>\n",
              "      <td>1.44</td>\n",
              "      <td>12.72</td>\n",
              "      <td>4.78</td>\n",
              "    </tr>\n",
              "    <tr>\n",
              "      <th>2022-11-28</th>\n",
              "      <td>1.950</td>\n",
              "      <td>1.748657</td>\n",
              "      <td>0.4005</td>\n",
              "      <td>0.156</td>\n",
              "      <td>2.260</td>\n",
              "      <td>1.460</td>\n",
              "      <td>1.495</td>\n",
              "      <td>4.220</td>\n",
              "      <td>0.742</td>\n",
              "      <td>5.64</td>\n",
              "      <td>...</td>\n",
              "      <td>1.120</td>\n",
              "      <td>2.98</td>\n",
              "      <td>0.645</td>\n",
              "      <td>1.0960</td>\n",
              "      <td>0.501</td>\n",
              "      <td>1.950</td>\n",
              "      <td>9.55</td>\n",
              "      <td>1.44</td>\n",
              "      <td>12.70</td>\n",
              "      <td>4.80</td>\n",
              "    </tr>\n",
              "    <tr>\n",
              "      <th>2022-11-29</th>\n",
              "      <td>1.950</td>\n",
              "      <td>1.748657</td>\n",
              "      <td>0.4010</td>\n",
              "      <td>0.156</td>\n",
              "      <td>2.292</td>\n",
              "      <td>1.452</td>\n",
              "      <td>1.495</td>\n",
              "      <td>4.288</td>\n",
              "      <td>0.742</td>\n",
              "      <td>5.62</td>\n",
              "      <td>...</td>\n",
              "      <td>1.155</td>\n",
              "      <td>3.00</td>\n",
              "      <td>0.659</td>\n",
              "      <td>1.0940</td>\n",
              "      <td>0.505</td>\n",
              "      <td>1.950</td>\n",
              "      <td>9.54</td>\n",
              "      <td>1.44</td>\n",
              "      <td>12.70</td>\n",
              "      <td>4.81</td>\n",
              "    </tr>\n",
              "  </tbody>\n",
              "</table>\n",
              "<p>5 rows × 30 columns</p>\n",
              "</div>\n",
              "      <button class=\"colab-df-convert\" onclick=\"convertToInteractive('df-13eec174-b769-4887-9252-0b05483f4497')\"\n",
              "              title=\"Convert this dataframe to an interactive table.\"\n",
              "              style=\"display:none;\">\n",
              "        \n",
              "  <svg xmlns=\"http://www.w3.org/2000/svg\" height=\"24px\"viewBox=\"0 0 24 24\"\n",
              "       width=\"24px\">\n",
              "    <path d=\"M0 0h24v24H0V0z\" fill=\"none\"/>\n",
              "    <path d=\"M18.56 5.44l.94 2.06.94-2.06 2.06-.94-2.06-.94-.94-2.06-.94 2.06-2.06.94zm-11 1L8.5 8.5l.94-2.06 2.06-.94-2.06-.94L8.5 2.5l-.94 2.06-2.06.94zm10 10l.94 2.06.94-2.06 2.06-.94-2.06-.94-.94-2.06-.94 2.06-2.06.94z\"/><path d=\"M17.41 7.96l-1.37-1.37c-.4-.4-.92-.59-1.43-.59-.52 0-1.04.2-1.43.59L10.3 9.45l-7.72 7.72c-.78.78-.78 2.05 0 2.83L4 21.41c.39.39.9.59 1.41.59.51 0 1.02-.2 1.41-.59l7.78-7.78 2.81-2.81c.8-.78.8-2.07 0-2.86zM5.41 20L4 18.59l7.72-7.72 1.47 1.35L5.41 20z\"/>\n",
              "  </svg>\n",
              "      </button>\n",
              "      \n",
              "  <style>\n",
              "    .colab-df-container {\n",
              "      display:flex;\n",
              "      flex-wrap:wrap;\n",
              "      gap: 12px;\n",
              "    }\n",
              "\n",
              "    .colab-df-convert {\n",
              "      background-color: #E8F0FE;\n",
              "      border: none;\n",
              "      border-radius: 50%;\n",
              "      cursor: pointer;\n",
              "      display: none;\n",
              "      fill: #1967D2;\n",
              "      height: 32px;\n",
              "      padding: 0 0 0 0;\n",
              "      width: 32px;\n",
              "    }\n",
              "\n",
              "    .colab-df-convert:hover {\n",
              "      background-color: #E2EBFA;\n",
              "      box-shadow: 0px 1px 2px rgba(60, 64, 67, 0.3), 0px 1px 3px 1px rgba(60, 64, 67, 0.15);\n",
              "      fill: #174EA6;\n",
              "    }\n",
              "\n",
              "    [theme=dark] .colab-df-convert {\n",
              "      background-color: #3B4455;\n",
              "      fill: #D2E3FC;\n",
              "    }\n",
              "\n",
              "    [theme=dark] .colab-df-convert:hover {\n",
              "      background-color: #434B5C;\n",
              "      box-shadow: 0px 1px 3px 1px rgba(0, 0, 0, 0.15);\n",
              "      filter: drop-shadow(0px 1px 2px rgba(0, 0, 0, 0.3));\n",
              "      fill: #FFFFFF;\n",
              "    }\n",
              "  </style>\n",
              "\n",
              "      <script>\n",
              "        const buttonEl =\n",
              "          document.querySelector('#df-13eec174-b769-4887-9252-0b05483f4497 button.colab-df-convert');\n",
              "        buttonEl.style.display =\n",
              "          google.colab.kernel.accessAllowed ? 'block' : 'none';\n",
              "\n",
              "        async function convertToInteractive(key) {\n",
              "          const element = document.querySelector('#df-13eec174-b769-4887-9252-0b05483f4497');\n",
              "          const dataTable =\n",
              "            await google.colab.kernel.invokeFunction('convertToInteractive',\n",
              "                                                     [key], {});\n",
              "          if (!dataTable) return;\n",
              "\n",
              "          const docLinkHtml = 'Like what you see? Visit the ' +\n",
              "            '<a target=\"_blank\" href=https://colab.research.google.com/notebooks/data_table.ipynb>data table notebook</a>'\n",
              "            + ' to learn more about interactive tables.';\n",
              "          element.innerHTML = '';\n",
              "          dataTable['output_type'] = 'display_data';\n",
              "          await google.colab.output.renderOutput(dataTable, element);\n",
              "          const docLink = document.createElement('div');\n",
              "          docLink.innerHTML = docLinkHtml;\n",
              "          element.appendChild(docLink);\n",
              "        }\n",
              "      </script>\n",
              "    </div>\n",
              "  </div>\n",
              "  "
            ]
          },
          "metadata": {},
          "execution_count": 12
        }
      ]
    },
    {
      "cell_type": "markdown",
      "source": [
        "When conducting this analysis and researching on the topic, it became apparent that it is common practise to use log returns (instead of simple returns) for financial analysis. The benefits of using log prices and log returns rather than raw (i.e. euro) amounts and percent returns is discussed in detail [here](https://quantivity.wordpress.com/2011/02/21/why-log-returns/#:~:text=Benefit%20of%20using%20returns%2C%20versus,price%20series%20of%20unequal%20values.) and [here](https://gregorygundersen.com/blog/2022/02/06/log-returns/). To summarise, the benefits are:\n",
        "\n",
        "*   they are normally distributed\n",
        "*   time additivity (the compound return over n periods is the difference in log between initial and final periods, therefore a calculation that is much simpler)\n",
        "*   approximate raw-log equality (close in value to raw returns)\n",
        "\n",
        "To calculate the log prices and returns, I first convert the prices to log prices, and then subtract the earliest closing log price from the latest. "
      ],
      "metadata": {
        "id": "dP1ZrLIH2-Fe"
      }
    },
    {
      "cell_type": "code",
      "source": [
        "# Get log prices\n",
        "log_close = np.log(omx_close)\n",
        "log_close.to_csv('log_close.csv')\n",
        "\n",
        "# Create a new dataframe to store our log returns\n",
        "log_returns = pd.DataFrame(index=log_close.columns, columns=['log_return'])\n",
        "\n",
        "# Populate new dataframe with log returns for each security\n",
        "for col in log_close.columns:\n",
        "    log_return = log_close[col].iloc[-1] - log_close[col].iloc[0]\n",
        "    log_returns.loc[col, 'log_return'] = log_return\n",
        "    \n",
        "log_returns.head()\n",
        "log_returns.to_csv('log_returns.csv')"
      ],
      "metadata": {
        "id": "1skWz9C03KHy"
      },
      "execution_count": null,
      "outputs": []
    },
    {
      "cell_type": "code",
      "source": [
        "plt.figure(figsize=(10,8))\n",
        "\n",
        "sns.histplot(log_returns['log_return'], kde=True)\n",
        "mean_return = log_returns['log_return'].mean()\n",
        "plt.title('Distribution of Log Returns in the NASDAQ OMX Baltic Main List from May 21, 2022 - Nov 30, 2022')\n",
        "plt.axvline(mean_return, ls=':', label='Index Mean: {}'.format(round(mean_return, 2)))\n",
        "plt.legend();"
      ],
      "metadata": {
        "colab": {
          "base_uri": "https://localhost:8080/",
          "height": 518
        },
        "id": "sGCOMLsQbbzC",
        "outputId": "aa41e8aa-6de6-4040-bbf2-3e386dd7c1ff"
      },
      "execution_count": null,
      "outputs": [
        {
          "output_type": "display_data",
          "data": {
            "text/plain": [
              "<Figure size 720x576 with 1 Axes>"
            ],
            "image/png": "[encoded data removed]"
          },
          "metadata": {}
        }
      ]
    },
    {
      "cell_type": "markdown",
      "source": [
        "We can see that the log returns look symmetrical and resembles a normal-shaped distribution, with a mean that is less than zero (-0.08). Translating this result back to raw euro format would be around -8% return, indicating that there was a strong overall downward movement of the market during the time period of study.\n",
        "\n",
        "Next, we will focus on:\n",
        "*   dealing with missing data and data imputation\n",
        "*   modeling the stock price (converted to log) at the date when financial statements were published"
      ],
      "metadata": {
        "id": "CDYXahNspWbO"
      }
    },
    {
      "cell_type": "code",
      "source": [
        "df.to_csv('combined_df.csv')"
      ],
      "metadata": {
        "id": "G8FFbCzqzuol"
      },
      "execution_count": null,
      "outputs": []
    }
  ]
}