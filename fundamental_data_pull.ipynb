{
  "nbformat": 4,
  "nbformat_minor": 0,
  "metadata": {
    "colab": {
      "provenance": [],
      "authorship_tag": "ABX9TyOIfDoLv8aUksha8nGTr6xq",
      "include_colab_link": true
    },
    "kernelspec": {
      "name": "python3",
      "display_name": "Python 3"
    },
    "language_info": {
      "name": "python"
    }
  },
  "cells": [
    {
      "cell_type": "markdown",
      "metadata": {
        "id": "view-in-github",
        "colab_type": "text"
      },
      "source": [
        "<a href=\"https://colab.research.google.com/github/sausis20/Stock-Portfolio-Nasdaq-Baltic/blob/main/fundamental_data_pull.ipynb\" target=\"_parent\"><img src=\"https://colab.research.google.com/assets/colab-badge.svg\" alt=\"Open In Colab\"/></a>"
      ]
    },
    {
      "cell_type": "code",
      "execution_count": null,
      "metadata": {
        "colab": {
          "base_uri": "https://localhost:8080/"
        },
        "id": "mtldqms6Dti5",
        "outputId": "3dbb926b-e9ec-4467-e6db-666d9bae2bac"
      },
      "outputs": [
        {
          "output_type": "stream",
          "name": "stdout",
          "text": [
            "Mounted at /content/gdrive\n"
          ]
        }
      ],
      "source": [
        "from google.colab import drive\n",
        "drive.mount('/content/gdrive')"
      ]
    },
    {
      "cell_type": "code",
      "source": [
        "cd '/content/gdrive/My Drive/Colab Notebooks/Nasdaq OMX Baltic/data/'"
      ],
      "metadata": {
        "colab": {
          "base_uri": "https://localhost:8080/"
        },
        "id": "7YM-Klim3iyE",
        "outputId": "075a2e44-fcfc-4cd0-a888-aca99a4058db"
      },
      "execution_count": null,
      "outputs": [
        {
          "output_type": "stream",
          "name": "stdout",
          "text": [
            "/content/gdrive/My Drive/Colab Notebooks/Nasdaq OMX Baltic\n"
          ]
        }
      ]
    },
    {
      "cell_type": "code",
      "source": [
        "pip install yfinance"
      ],
      "metadata": {
        "id": "ls0X78CMHK-n"
      },
      "execution_count": null,
      "outputs": []
    },
    {
      "cell_type": "code",
      "source": [
        "import yfinance as yf\n",
        "import pandas as pd"
      ],
      "metadata": {
        "id": "wU6SarmfHAs2"
      },
      "execution_count": null,
      "outputs": []
    },
    {
      "cell_type": "code",
      "source": [
        "ticker_list = pd.read_csv('tickers.csv')\n",
        "ticker_list = ticker_list['Ticker'].tolist()"
      ],
      "metadata": {
        "id": "7qcPdqasz-xD"
      },
      "execution_count": null,
      "outputs": []
    },
    {
      "cell_type": "markdown",
      "source": [
        "First, lets check which companies have have reported their yearly financial statements for 2021-12-31 to the NASDAQ stock exchange."
      ],
      "metadata": {
        "id": "z0icUOUeJudX"
      }
    },
    {
      "cell_type": "code",
      "source": [
        "tickers_new = []\n",
        "tickers_nodata = []\n",
        "for t in ticker_list:\n",
        "  try:\n",
        "    print(t, list(pd.DataFrame(yf.Ticker(t).financials[['2021-12-31']])))\n",
        "    tickers_new.append(t)\n",
        "  except:\n",
        "    print(t, 'No data found')\n",
        "    tickers_nodata.append(t)"
      ],
      "metadata": {
        "colab": {
          "base_uri": "https://localhost:8080/"
        },
        "id": "oa46cpi8KEG8",
        "outputId": "d72895a4-d953-4027-bcbb-cac00b13fe44"
      },
      "execution_count": null,
      "outputs": [
        {
          "output_type": "stream",
          "name": "stdout",
          "text": [
            "APG1L.VS [Timestamp('2021-12-31 00:00:00')]\n",
            "ARC1T.TL [Timestamp('2021-12-31 00:00:00')]\n",
            "AUG1L.VS [Timestamp('2021-12-31 00:00:00')]\n",
            "BLT1T.TL [Timestamp('2021-12-31 00:00:00')]\n",
            "CPA1T.TL [Timestamp('2021-12-31 00:00:00')]\n",
            "DGR1R.RG [Timestamp('2021-12-31 00:00:00')]\n",
            "EEG1T.TL [Timestamp('2021-12-31 00:00:00')]\n",
            "EFT1T.TL No data found\n",
            "EGR1T.TL [Timestamp('2021-12-31 00:00:00')]\n",
            "GRG1L.VS [Timestamp('2021-12-31 00:00:00')]\n",
            "HAE1T.TL [Timestamp('2021-12-31 00:00:00')]\n",
            "HMX1R.RG [Timestamp('2021-12-31 00:00:00')]\n",
            "HPR1T.TL [Timestamp('2021-12-31 00:00:00')]\n",
            "IGN1L.VS [Timestamp('2021-12-31 00:00:00')]\n",
            "KNF1L.VS [Timestamp('2021-12-31 00:00:00')]\n",
            "LHV1T.TL [Timestamp('2021-12-31 00:00:00')]\n",
            "LNA1L.VS No data found\n",
            "MRK1T.TL [Timestamp('2021-12-31 00:00:00')]\n",
            "NCN1T.TL [Timestamp('2021-12-31 00:00:00')]\n",
            "NTU1L.VS [Timestamp('2021-12-31 00:00:00')]\n",
            "PKG1T.TL [Timestamp('2021-12-31 00:00:00')]\n",
            "PRF1T.TL No data found\n",
            "PTR1L.VS [Timestamp('2021-12-31 00:00:00')]\n",
            "PZV1L.VS [Timestamp('2021-12-31 00:00:00')]\n",
            "RSU1L.VS [Timestamp('2021-12-31 00:00:00')]\n",
            "SAB1L.VS [Timestamp('2021-12-31 00:00:00')]\n",
            "SAF1R.RG No data found\n",
            "SFG1T.TL [Timestamp('2021-12-31 00:00:00')]\n",
            "TAL1T.TL [Timestamp('2021-12-31 00:00:00')]\n",
            "TEL1L.VS [Timestamp('2021-12-31 00:00:00')]\n",
            "TKM1T.TL [Timestamp('2021-12-31 00:00:00')]\n",
            "TSM1T.TL [Timestamp('2021-12-31 00:00:00')]\n",
            "TVE1T.TL [Timestamp('2021-12-31 00:00:00')]\n",
            "VLP1L.VS [Timestamp('2021-12-31 00:00:00')]\n"
          ]
        }
      ]
    },
    {
      "cell_type": "code",
      "source": [
        "print(len(ticker_list), len(tickers_new), len(tickers_nodata))"
      ],
      "metadata": {
        "colab": {
          "base_uri": "https://localhost:8080/"
        },
        "id": "NnlodnfhXVlN",
        "outputId": "5171ca73-c821-4ed8-acaa-db5766eb1fcf"
      },
      "execution_count": null,
      "outputs": [
        {
          "output_type": "stream",
          "name": "stdout",
          "text": [
            "34 30 4\n"
          ]
        }
      ]
    },
    {
      "cell_type": "markdown",
      "source": [
        "We see that the majority of the companies (30 out of total 34) have their yearly data available for 2021-12-31. For further analysis, we will use these 30 companies only. "
      ],
      "metadata": {
        "id": "w2vqYeJEKDOr"
      }
    },
    {
      "cell_type": "code",
      "source": [
        "# Company info\n",
        "df_list = []\n",
        "\n",
        "for t in tickers_new:\n",
        "    df_list.append(pd.DataFrame([yf.Ticker(t).info]))\n",
        "\n",
        "df = pd.concat(df_list)\n",
        "df.index = tickers_new\n",
        "df.to_csv('company_info.csv')"
      ],
      "metadata": {
        "id": "JlbMZo5H-lRs"
      },
      "execution_count": null,
      "outputs": []
    },
    {
      "cell_type": "code",
      "source": [
        "# Profit & Loss statement\n",
        "df_list = []\n",
        "\n",
        "for t in tickers_new:\n",
        "  df_list.append(pd.DataFrame(yf.Ticker(t).financials[['2021-12-31']].T))\n",
        "  \n",
        "df = pd.concat(df_list)\n",
        "df.index = tickers_new\n",
        "df.to_csv('profit_loss.csv')"
      ],
      "metadata": {
        "id": "HVxPzFISFlyr"
      },
      "execution_count": null,
      "outputs": []
    },
    {
      "cell_type": "code",
      "source": [
        "# Balance sheet\n",
        "df_list = []\n",
        "\n",
        "for t in tickers_new:\n",
        "  df_list.append(pd.DataFrame(yf.Ticker(t).balance_sheet[['2021-12-31']].T))\n",
        "  \n",
        "df = pd.concat(df_list)\n",
        "df.index = tickers_new\n",
        "df.to_csv('balance_sheet.csv')"
      ],
      "metadata": {
        "id": "VpgfN5y7I-re"
      },
      "execution_count": null,
      "outputs": []
    },
    {
      "cell_type": "code",
      "source": [
        "# Cash flow\n",
        "df_list = []\n",
        "\n",
        "for t in tickers_new:\n",
        "  df_list.append(pd.DataFrame(yf.Ticker(t).cashflow[['2021-12-31']].T))\n",
        "  \n",
        "df = pd.concat(df_list)\n",
        "df.index = tickers_new\n",
        "df.to_csv('cash_flow.csv')"
      ],
      "metadata": {
        "id": "OKAiWCyGLz06"
      },
      "execution_count": null,
      "outputs": []
    },
    {
      "cell_type": "code",
      "source": [
        "# Dividends\n",
        "df_list = []\n",
        "\n",
        "for t in tickers_new:\n",
        "  divs = pd.DataFrame(yf.Ticker(t).dividends)\n",
        "  divs = divs.T\n",
        "  df_list.append(divs)\n",
        "  \n",
        "df = pd.concat(df_list)\n",
        "df.index = tickers_new\n",
        "df.to_csv('dividends.csv')"
      ],
      "metadata": {
        "id": "-non0Q8aMKFx"
      },
      "execution_count": null,
      "outputs": []
    },
    {
      "cell_type": "code",
      "source": [
        "# Major holders\n",
        "df_list = []\n",
        "\n",
        "for t in tickers_new:\n",
        "  hld = yf.Ticker(t).major_holders\n",
        "  hld = hld.set_index(1)\n",
        "  hld = pd.DataFrame(hld).T\n",
        "  hld.columns.name = None\n",
        "  df_list.append(hld)\n",
        "\n",
        "df = pd.concat(df_list)\n",
        "df.index = tickers_new\n",
        "df.to_csv('major_holders.csv')"
      ],
      "metadata": {
        "id": "Ow7PWQOvenMf"
      },
      "execution_count": null,
      "outputs": []
    },
    {
      "cell_type": "code",
      "source": [
        "# Institutional holders\n",
        "df_list = []\n",
        "\n",
        "for t in tickers_new:\n",
        "  inst = pd.DataFrame(yf.Ticker(t).institutional_holders)\n",
        "  if inst is not None:\n",
        "    inst['Ticker'] = t\n",
        "    df_list.append(inst)\n",
        "\n",
        "df = pd.concat(df_list)\n",
        "df.to_csv('institutional_holders.csv')"
      ],
      "metadata": {
        "id": "Rv7mjeQxCebB"
      },
      "execution_count": null,
      "outputs": []
    },
    {
      "cell_type": "code",
      "source": [
        "# Sustainability - none of the companies in the Baltic main list have sustainability information\n",
        "for t in tickers_new:\n",
        " print(yf.Ticker(t).sustainability)"
      ],
      "metadata": {
        "id": "_omVy_G8JS-6",
        "colab": {
          "base_uri": "https://localhost:8080/"
        },
        "outputId": "7572f64c-d159-44e1-9c53-dfb5d74ea155"
      },
      "execution_count": null,
      "outputs": [
        {
          "output_type": "stream",
          "name": "stdout",
          "text": [
            "None\n",
            "None\n",
            "None\n",
            "None\n",
            "None\n",
            "None\n",
            "None\n",
            "None\n",
            "None\n",
            "None\n",
            "None\n",
            "None\n",
            "None\n",
            "None\n",
            "None\n",
            "None\n",
            "None\n",
            "None\n",
            "None\n",
            "None\n",
            "None\n",
            "None\n",
            "None\n",
            "None\n",
            "None\n",
            "None\n",
            "None\n",
            "None\n",
            "None\n",
            "None\n"
          ]
        }
      ]
    },
    {
      "cell_type": "code",
      "source": [
        "# Recommendations - none of the companies in the Baltic main list have analysts' recommendations\n",
        "for t in tickers_new:\n",
        " print(yf.Ticker(t).recommendations)"
      ],
      "metadata": {
        "id": "eEHWd3IX2tTd",
        "colab": {
          "base_uri": "https://localhost:8080/"
        },
        "outputId": "1eebc1d4-70f1-4933-fd91-e129547094e0"
      },
      "execution_count": null,
      "outputs": [
        {
          "output_type": "stream",
          "name": "stdout",
          "text": [
            "None\n",
            "None\n",
            "None\n",
            "None\n",
            "None\n",
            "None\n",
            "None\n",
            "None\n",
            "None\n",
            "None\n",
            "None\n",
            "None\n",
            "None\n",
            "None\n",
            "None\n",
            "None\n",
            "None\n",
            "None\n",
            "None\n",
            "None\n",
            "None\n",
            "None\n",
            "None\n",
            "None\n",
            "None\n",
            "None\n",
            "None\n",
            "None\n",
            "None\n",
            "None\n"
          ]
        }
      ]
    }
  ]
}